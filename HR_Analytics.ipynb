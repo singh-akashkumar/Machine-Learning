{
  "cells": [
    {
      "cell_type": "markdown",
      "id": "fb201c9b",
      "metadata": {
        "id": "fb201c9b"
      },
      "source": [
        "# HR Analytics (Case Study)"
      ]
    },
    {
      "cell_type": "markdown",
      "id": "8b3d2418",
      "metadata": {
        "id": "8b3d2418"
      },
      "source": [
        "Group ID (GID): kP1VgTa__\n",
        "\n",
        "Group Lead : Akash Kumar Singh\n",
        "\n",
        "Selected Project: HR Analytics (Case Study)\n",
        "\n",
        "Number of group members: 1 (Group Lead only)\n",
        "\n",
        "Group name: AKS\n",
        "\n",
        "User ID:  J7xHtmmo1\n",
        "\n",
        "RID:  _lxKPNTxt"
      ]
    },
    {
      "cell_type": "code",
      "execution_count": null,
      "id": "7e10a224",
      "metadata": {
        "id": "7e10a224"
      },
      "outputs": [],
      "source": [
        "import pandas as pd\n",
        "import numpy as np\n",
        "import seaborn as sns\n",
        "from sklearn import metrics\n",
        "import matplotlib.pyplot as plt\n",
        "%matplotlib inline"
      ]
    },
    {
      "cell_type": "code",
      "execution_count": null,
      "id": "4978996a",
      "metadata": {
        "id": "4978996a"
      },
      "outputs": [],
      "source": [
        "gd=pd.read_csv('C:/Akash Kr Singh/Machine Learning/Internship Project/HR Analytics Case Study/general_data.csv')\n",
        "esd=pd.read_csv('C:/Akash Kr Singh/Machine Learning/Internship Project/HR Analytics Case Study/employee_survey_data.csv')\n",
        "msd=pd.read_csv('C:/Akash Kr Singh/Machine Learning/Internship Project/HR Analytics Case Study/manager_survey_data.csv')"
      ]
    },
    {
      "cell_type": "code",
      "execution_count": null,
      "id": "ee01894d",
      "metadata": {
        "id": "ee01894d",
        "outputId": "eb4dd1ef-a301-4dfe-dcbb-82e9ae6a040b"
      },
      "outputs": [
        {
          "data": {
            "text/html": [
              "<div>\n",
              "<style scoped>\n",
              "    .dataframe tbody tr th:only-of-type {\n",
              "        vertical-align: middle;\n",
              "    }\n",
              "\n",
              "    .dataframe tbody tr th {\n",
              "        vertical-align: top;\n",
              "    }\n",
              "\n",
              "    .dataframe thead th {\n",
              "        text-align: right;\n",
              "    }\n",
              "</style>\n",
              "<table border=\"1\" class=\"dataframe\">\n",
              "  <thead>\n",
              "    <tr style=\"text-align: right;\">\n",
              "      <th></th>\n",
              "      <th>Age</th>\n",
              "      <th>Attrition</th>\n",
              "      <th>BusinessTravel</th>\n",
              "      <th>Department</th>\n",
              "      <th>DistanceFromHome</th>\n",
              "      <th>Education</th>\n",
              "      <th>EducationField</th>\n",
              "      <th>EmployeeCount</th>\n",
              "      <th>EmployeeID</th>\n",
              "      <th>Gender</th>\n",
              "      <th>...</th>\n",
              "      <th>NumCompaniesWorked</th>\n",
              "      <th>Over18</th>\n",
              "      <th>PercentSalaryHike</th>\n",
              "      <th>StandardHours</th>\n",
              "      <th>StockOptionLevel</th>\n",
              "      <th>TotalWorkingYears</th>\n",
              "      <th>TrainingTimesLastYear</th>\n",
              "      <th>YearsAtCompany</th>\n",
              "      <th>YearsSinceLastPromotion</th>\n",
              "      <th>YearsWithCurrManager</th>\n",
              "    </tr>\n",
              "  </thead>\n",
              "  <tbody>\n",
              "    <tr>\n",
              "      <th>0</th>\n",
              "      <td>51</td>\n",
              "      <td>No</td>\n",
              "      <td>Travel_Rarely</td>\n",
              "      <td>Sales</td>\n",
              "      <td>6</td>\n",
              "      <td>2</td>\n",
              "      <td>Life Sciences</td>\n",
              "      <td>1</td>\n",
              "      <td>1</td>\n",
              "      <td>Female</td>\n",
              "      <td>...</td>\n",
              "      <td>1.0</td>\n",
              "      <td>Y</td>\n",
              "      <td>11</td>\n",
              "      <td>8</td>\n",
              "      <td>0</td>\n",
              "      <td>1.0</td>\n",
              "      <td>6</td>\n",
              "      <td>1</td>\n",
              "      <td>0</td>\n",
              "      <td>0</td>\n",
              "    </tr>\n",
              "    <tr>\n",
              "      <th>1</th>\n",
              "      <td>31</td>\n",
              "      <td>Yes</td>\n",
              "      <td>Travel_Frequently</td>\n",
              "      <td>Research &amp; Development</td>\n",
              "      <td>10</td>\n",
              "      <td>1</td>\n",
              "      <td>Life Sciences</td>\n",
              "      <td>1</td>\n",
              "      <td>2</td>\n",
              "      <td>Female</td>\n",
              "      <td>...</td>\n",
              "      <td>0.0</td>\n",
              "      <td>Y</td>\n",
              "      <td>23</td>\n",
              "      <td>8</td>\n",
              "      <td>1</td>\n",
              "      <td>6.0</td>\n",
              "      <td>3</td>\n",
              "      <td>5</td>\n",
              "      <td>1</td>\n",
              "      <td>4</td>\n",
              "    </tr>\n",
              "    <tr>\n",
              "      <th>2</th>\n",
              "      <td>32</td>\n",
              "      <td>No</td>\n",
              "      <td>Travel_Frequently</td>\n",
              "      <td>Research &amp; Development</td>\n",
              "      <td>17</td>\n",
              "      <td>4</td>\n",
              "      <td>Other</td>\n",
              "      <td>1</td>\n",
              "      <td>3</td>\n",
              "      <td>Male</td>\n",
              "      <td>...</td>\n",
              "      <td>1.0</td>\n",
              "      <td>Y</td>\n",
              "      <td>15</td>\n",
              "      <td>8</td>\n",
              "      <td>3</td>\n",
              "      <td>5.0</td>\n",
              "      <td>2</td>\n",
              "      <td>5</td>\n",
              "      <td>0</td>\n",
              "      <td>3</td>\n",
              "    </tr>\n",
              "    <tr>\n",
              "      <th>3</th>\n",
              "      <td>38</td>\n",
              "      <td>No</td>\n",
              "      <td>Non-Travel</td>\n",
              "      <td>Research &amp; Development</td>\n",
              "      <td>2</td>\n",
              "      <td>5</td>\n",
              "      <td>Life Sciences</td>\n",
              "      <td>1</td>\n",
              "      <td>4</td>\n",
              "      <td>Male</td>\n",
              "      <td>...</td>\n",
              "      <td>3.0</td>\n",
              "      <td>Y</td>\n",
              "      <td>11</td>\n",
              "      <td>8</td>\n",
              "      <td>3</td>\n",
              "      <td>13.0</td>\n",
              "      <td>5</td>\n",
              "      <td>8</td>\n",
              "      <td>7</td>\n",
              "      <td>5</td>\n",
              "    </tr>\n",
              "    <tr>\n",
              "      <th>4</th>\n",
              "      <td>32</td>\n",
              "      <td>No</td>\n",
              "      <td>Travel_Rarely</td>\n",
              "      <td>Research &amp; Development</td>\n",
              "      <td>10</td>\n",
              "      <td>1</td>\n",
              "      <td>Medical</td>\n",
              "      <td>1</td>\n",
              "      <td>5</td>\n",
              "      <td>Male</td>\n",
              "      <td>...</td>\n",
              "      <td>4.0</td>\n",
              "      <td>Y</td>\n",
              "      <td>12</td>\n",
              "      <td>8</td>\n",
              "      <td>2</td>\n",
              "      <td>9.0</td>\n",
              "      <td>2</td>\n",
              "      <td>6</td>\n",
              "      <td>0</td>\n",
              "      <td>4</td>\n",
              "    </tr>\n",
              "    <tr>\n",
              "      <th>...</th>\n",
              "      <td>...</td>\n",
              "      <td>...</td>\n",
              "      <td>...</td>\n",
              "      <td>...</td>\n",
              "      <td>...</td>\n",
              "      <td>...</td>\n",
              "      <td>...</td>\n",
              "      <td>...</td>\n",
              "      <td>...</td>\n",
              "      <td>...</td>\n",
              "      <td>...</td>\n",
              "      <td>...</td>\n",
              "      <td>...</td>\n",
              "      <td>...</td>\n",
              "      <td>...</td>\n",
              "      <td>...</td>\n",
              "      <td>...</td>\n",
              "      <td>...</td>\n",
              "      <td>...</td>\n",
              "      <td>...</td>\n",
              "      <td>...</td>\n",
              "    </tr>\n",
              "    <tr>\n",
              "      <th>4405</th>\n",
              "      <td>42</td>\n",
              "      <td>No</td>\n",
              "      <td>Travel_Rarely</td>\n",
              "      <td>Research &amp; Development</td>\n",
              "      <td>5</td>\n",
              "      <td>4</td>\n",
              "      <td>Medical</td>\n",
              "      <td>1</td>\n",
              "      <td>4406</td>\n",
              "      <td>Female</td>\n",
              "      <td>...</td>\n",
              "      <td>3.0</td>\n",
              "      <td>Y</td>\n",
              "      <td>17</td>\n",
              "      <td>8</td>\n",
              "      <td>1</td>\n",
              "      <td>10.0</td>\n",
              "      <td>5</td>\n",
              "      <td>3</td>\n",
              "      <td>0</td>\n",
              "      <td>2</td>\n",
              "    </tr>\n",
              "    <tr>\n",
              "      <th>4406</th>\n",
              "      <td>29</td>\n",
              "      <td>No</td>\n",
              "      <td>Travel_Rarely</td>\n",
              "      <td>Research &amp; Development</td>\n",
              "      <td>2</td>\n",
              "      <td>4</td>\n",
              "      <td>Medical</td>\n",
              "      <td>1</td>\n",
              "      <td>4407</td>\n",
              "      <td>Male</td>\n",
              "      <td>...</td>\n",
              "      <td>2.0</td>\n",
              "      <td>Y</td>\n",
              "      <td>15</td>\n",
              "      <td>8</td>\n",
              "      <td>0</td>\n",
              "      <td>10.0</td>\n",
              "      <td>2</td>\n",
              "      <td>3</td>\n",
              "      <td>0</td>\n",
              "      <td>2</td>\n",
              "    </tr>\n",
              "    <tr>\n",
              "      <th>4407</th>\n",
              "      <td>25</td>\n",
              "      <td>No</td>\n",
              "      <td>Travel_Rarely</td>\n",
              "      <td>Research &amp; Development</td>\n",
              "      <td>25</td>\n",
              "      <td>2</td>\n",
              "      <td>Life Sciences</td>\n",
              "      <td>1</td>\n",
              "      <td>4408</td>\n",
              "      <td>Male</td>\n",
              "      <td>...</td>\n",
              "      <td>0.0</td>\n",
              "      <td>Y</td>\n",
              "      <td>20</td>\n",
              "      <td>8</td>\n",
              "      <td>0</td>\n",
              "      <td>5.0</td>\n",
              "      <td>4</td>\n",
              "      <td>4</td>\n",
              "      <td>1</td>\n",
              "      <td>2</td>\n",
              "    </tr>\n",
              "    <tr>\n",
              "      <th>4408</th>\n",
              "      <td>42</td>\n",
              "      <td>No</td>\n",
              "      <td>Travel_Rarely</td>\n",
              "      <td>Sales</td>\n",
              "      <td>18</td>\n",
              "      <td>2</td>\n",
              "      <td>Medical</td>\n",
              "      <td>1</td>\n",
              "      <td>4409</td>\n",
              "      <td>Male</td>\n",
              "      <td>...</td>\n",
              "      <td>0.0</td>\n",
              "      <td>Y</td>\n",
              "      <td>14</td>\n",
              "      <td>8</td>\n",
              "      <td>1</td>\n",
              "      <td>10.0</td>\n",
              "      <td>2</td>\n",
              "      <td>9</td>\n",
              "      <td>7</td>\n",
              "      <td>8</td>\n",
              "    </tr>\n",
              "    <tr>\n",
              "      <th>4409</th>\n",
              "      <td>40</td>\n",
              "      <td>No</td>\n",
              "      <td>Travel_Rarely</td>\n",
              "      <td>Research &amp; Development</td>\n",
              "      <td>28</td>\n",
              "      <td>3</td>\n",
              "      <td>Medical</td>\n",
              "      <td>1</td>\n",
              "      <td>4410</td>\n",
              "      <td>Male</td>\n",
              "      <td>...</td>\n",
              "      <td>0.0</td>\n",
              "      <td>Y</td>\n",
              "      <td>12</td>\n",
              "      <td>8</td>\n",
              "      <td>0</td>\n",
              "      <td>NaN</td>\n",
              "      <td>6</td>\n",
              "      <td>21</td>\n",
              "      <td>3</td>\n",
              "      <td>9</td>\n",
              "    </tr>\n",
              "  </tbody>\n",
              "</table>\n",
              "<p>4410 rows × 24 columns</p>\n",
              "</div>"
            ],
            "text/plain": [
              "      Age Attrition     BusinessTravel              Department  \\\n",
              "0      51        No      Travel_Rarely                   Sales   \n",
              "1      31       Yes  Travel_Frequently  Research & Development   \n",
              "2      32        No  Travel_Frequently  Research & Development   \n",
              "3      38        No         Non-Travel  Research & Development   \n",
              "4      32        No      Travel_Rarely  Research & Development   \n",
              "...   ...       ...                ...                     ...   \n",
              "4405   42        No      Travel_Rarely  Research & Development   \n",
              "4406   29        No      Travel_Rarely  Research & Development   \n",
              "4407   25        No      Travel_Rarely  Research & Development   \n",
              "4408   42        No      Travel_Rarely                   Sales   \n",
              "4409   40        No      Travel_Rarely  Research & Development   \n",
              "\n",
              "      DistanceFromHome  Education EducationField  EmployeeCount  EmployeeID  \\\n",
              "0                    6          2  Life Sciences              1           1   \n",
              "1                   10          1  Life Sciences              1           2   \n",
              "2                   17          4          Other              1           3   \n",
              "3                    2          5  Life Sciences              1           4   \n",
              "4                   10          1        Medical              1           5   \n",
              "...                ...        ...            ...            ...         ...   \n",
              "4405                 5          4        Medical              1        4406   \n",
              "4406                 2          4        Medical              1        4407   \n",
              "4407                25          2  Life Sciences              1        4408   \n",
              "4408                18          2        Medical              1        4409   \n",
              "4409                28          3        Medical              1        4410   \n",
              "\n",
              "      Gender  ...  NumCompaniesWorked Over18 PercentSalaryHike  StandardHours  \\\n",
              "0     Female  ...                 1.0      Y                11              8   \n",
              "1     Female  ...                 0.0      Y                23              8   \n",
              "2       Male  ...                 1.0      Y                15              8   \n",
              "3       Male  ...                 3.0      Y                11              8   \n",
              "4       Male  ...                 4.0      Y                12              8   \n",
              "...      ...  ...                 ...    ...               ...            ...   \n",
              "4405  Female  ...                 3.0      Y                17              8   \n",
              "4406    Male  ...                 2.0      Y                15              8   \n",
              "4407    Male  ...                 0.0      Y                20              8   \n",
              "4408    Male  ...                 0.0      Y                14              8   \n",
              "4409    Male  ...                 0.0      Y                12              8   \n",
              "\n",
              "      StockOptionLevel TotalWorkingYears  TrainingTimesLastYear  \\\n",
              "0                    0               1.0                      6   \n",
              "1                    1               6.0                      3   \n",
              "2                    3               5.0                      2   \n",
              "3                    3              13.0                      5   \n",
              "4                    2               9.0                      2   \n",
              "...                ...               ...                    ...   \n",
              "4405                 1              10.0                      5   \n",
              "4406                 0              10.0                      2   \n",
              "4407                 0               5.0                      4   \n",
              "4408                 1              10.0                      2   \n",
              "4409                 0               NaN                      6   \n",
              "\n",
              "      YearsAtCompany  YearsSinceLastPromotion  YearsWithCurrManager  \n",
              "0                  1                        0                     0  \n",
              "1                  5                        1                     4  \n",
              "2                  5                        0                     3  \n",
              "3                  8                        7                     5  \n",
              "4                  6                        0                     4  \n",
              "...              ...                      ...                   ...  \n",
              "4405               3                        0                     2  \n",
              "4406               3                        0                     2  \n",
              "4407               4                        1                     2  \n",
              "4408               9                        7                     8  \n",
              "4409              21                        3                     9  \n",
              "\n",
              "[4410 rows x 24 columns]"
            ]
          },
          "execution_count": 3,
          "metadata": {},
          "output_type": "execute_result"
        }
      ],
      "source": [
        "gd"
      ]
    },
    {
      "cell_type": "code",
      "execution_count": null,
      "id": "8fe0cfb6",
      "metadata": {
        "id": "8fe0cfb6",
        "outputId": "97092af3-1e52-4271-f4f3-9137782ab840"
      },
      "outputs": [
        {
          "data": {
            "text/html": [
              "<div>\n",
              "<style scoped>\n",
              "    .dataframe tbody tr th:only-of-type {\n",
              "        vertical-align: middle;\n",
              "    }\n",
              "\n",
              "    .dataframe tbody tr th {\n",
              "        vertical-align: top;\n",
              "    }\n",
              "\n",
              "    .dataframe thead th {\n",
              "        text-align: right;\n",
              "    }\n",
              "</style>\n",
              "<table border=\"1\" class=\"dataframe\">\n",
              "  <thead>\n",
              "    <tr style=\"text-align: right;\">\n",
              "      <th></th>\n",
              "      <th>EmployeeID</th>\n",
              "      <th>EnvironmentSatisfaction</th>\n",
              "      <th>JobSatisfaction</th>\n",
              "      <th>WorkLifeBalance</th>\n",
              "    </tr>\n",
              "  </thead>\n",
              "  <tbody>\n",
              "    <tr>\n",
              "      <th>0</th>\n",
              "      <td>1</td>\n",
              "      <td>3.0</td>\n",
              "      <td>4.0</td>\n",
              "      <td>2.0</td>\n",
              "    </tr>\n",
              "    <tr>\n",
              "      <th>1</th>\n",
              "      <td>2</td>\n",
              "      <td>3.0</td>\n",
              "      <td>2.0</td>\n",
              "      <td>4.0</td>\n",
              "    </tr>\n",
              "    <tr>\n",
              "      <th>2</th>\n",
              "      <td>3</td>\n",
              "      <td>2.0</td>\n",
              "      <td>2.0</td>\n",
              "      <td>1.0</td>\n",
              "    </tr>\n",
              "    <tr>\n",
              "      <th>3</th>\n",
              "      <td>4</td>\n",
              "      <td>4.0</td>\n",
              "      <td>4.0</td>\n",
              "      <td>3.0</td>\n",
              "    </tr>\n",
              "    <tr>\n",
              "      <th>4</th>\n",
              "      <td>5</td>\n",
              "      <td>4.0</td>\n",
              "      <td>1.0</td>\n",
              "      <td>3.0</td>\n",
              "    </tr>\n",
              "    <tr>\n",
              "      <th>...</th>\n",
              "      <td>...</td>\n",
              "      <td>...</td>\n",
              "      <td>...</td>\n",
              "      <td>...</td>\n",
              "    </tr>\n",
              "    <tr>\n",
              "      <th>4405</th>\n",
              "      <td>4406</td>\n",
              "      <td>4.0</td>\n",
              "      <td>1.0</td>\n",
              "      <td>3.0</td>\n",
              "    </tr>\n",
              "    <tr>\n",
              "      <th>4406</th>\n",
              "      <td>4407</td>\n",
              "      <td>4.0</td>\n",
              "      <td>4.0</td>\n",
              "      <td>3.0</td>\n",
              "    </tr>\n",
              "    <tr>\n",
              "      <th>4407</th>\n",
              "      <td>4408</td>\n",
              "      <td>1.0</td>\n",
              "      <td>3.0</td>\n",
              "      <td>3.0</td>\n",
              "    </tr>\n",
              "    <tr>\n",
              "      <th>4408</th>\n",
              "      <td>4409</td>\n",
              "      <td>4.0</td>\n",
              "      <td>1.0</td>\n",
              "      <td>3.0</td>\n",
              "    </tr>\n",
              "    <tr>\n",
              "      <th>4409</th>\n",
              "      <td>4410</td>\n",
              "      <td>1.0</td>\n",
              "      <td>3.0</td>\n",
              "      <td>NaN</td>\n",
              "    </tr>\n",
              "  </tbody>\n",
              "</table>\n",
              "<p>4410 rows × 4 columns</p>\n",
              "</div>"
            ],
            "text/plain": [
              "      EmployeeID  EnvironmentSatisfaction  JobSatisfaction  WorkLifeBalance\n",
              "0              1                      3.0              4.0              2.0\n",
              "1              2                      3.0              2.0              4.0\n",
              "2              3                      2.0              2.0              1.0\n",
              "3              4                      4.0              4.0              3.0\n",
              "4              5                      4.0              1.0              3.0\n",
              "...          ...                      ...              ...              ...\n",
              "4405        4406                      4.0              1.0              3.0\n",
              "4406        4407                      4.0              4.0              3.0\n",
              "4407        4408                      1.0              3.0              3.0\n",
              "4408        4409                      4.0              1.0              3.0\n",
              "4409        4410                      1.0              3.0              NaN\n",
              "\n",
              "[4410 rows x 4 columns]"
            ]
          },
          "execution_count": 4,
          "metadata": {},
          "output_type": "execute_result"
        }
      ],
      "source": [
        "esd"
      ]
    },
    {
      "cell_type": "code",
      "execution_count": null,
      "id": "1d51abb9",
      "metadata": {
        "id": "1d51abb9",
        "outputId": "f58bcc32-8f36-4332-f1aa-667f1102eec9"
      },
      "outputs": [
        {
          "data": {
            "text/html": [
              "<div>\n",
              "<style scoped>\n",
              "    .dataframe tbody tr th:only-of-type {\n",
              "        vertical-align: middle;\n",
              "    }\n",
              "\n",
              "    .dataframe tbody tr th {\n",
              "        vertical-align: top;\n",
              "    }\n",
              "\n",
              "    .dataframe thead th {\n",
              "        text-align: right;\n",
              "    }\n",
              "</style>\n",
              "<table border=\"1\" class=\"dataframe\">\n",
              "  <thead>\n",
              "    <tr style=\"text-align: right;\">\n",
              "      <th></th>\n",
              "      <th>EmployeeID</th>\n",
              "      <th>JobInvolvement</th>\n",
              "      <th>PerformanceRating</th>\n",
              "    </tr>\n",
              "  </thead>\n",
              "  <tbody>\n",
              "    <tr>\n",
              "      <th>0</th>\n",
              "      <td>1</td>\n",
              "      <td>3</td>\n",
              "      <td>3</td>\n",
              "    </tr>\n",
              "    <tr>\n",
              "      <th>1</th>\n",
              "      <td>2</td>\n",
              "      <td>2</td>\n",
              "      <td>4</td>\n",
              "    </tr>\n",
              "    <tr>\n",
              "      <th>2</th>\n",
              "      <td>3</td>\n",
              "      <td>3</td>\n",
              "      <td>3</td>\n",
              "    </tr>\n",
              "    <tr>\n",
              "      <th>3</th>\n",
              "      <td>4</td>\n",
              "      <td>2</td>\n",
              "      <td>3</td>\n",
              "    </tr>\n",
              "    <tr>\n",
              "      <th>4</th>\n",
              "      <td>5</td>\n",
              "      <td>3</td>\n",
              "      <td>3</td>\n",
              "    </tr>\n",
              "    <tr>\n",
              "      <th>...</th>\n",
              "      <td>...</td>\n",
              "      <td>...</td>\n",
              "      <td>...</td>\n",
              "    </tr>\n",
              "    <tr>\n",
              "      <th>4405</th>\n",
              "      <td>4406</td>\n",
              "      <td>3</td>\n",
              "      <td>3</td>\n",
              "    </tr>\n",
              "    <tr>\n",
              "      <th>4406</th>\n",
              "      <td>4407</td>\n",
              "      <td>2</td>\n",
              "      <td>3</td>\n",
              "    </tr>\n",
              "    <tr>\n",
              "      <th>4407</th>\n",
              "      <td>4408</td>\n",
              "      <td>3</td>\n",
              "      <td>4</td>\n",
              "    </tr>\n",
              "    <tr>\n",
              "      <th>4408</th>\n",
              "      <td>4409</td>\n",
              "      <td>2</td>\n",
              "      <td>3</td>\n",
              "    </tr>\n",
              "    <tr>\n",
              "      <th>4409</th>\n",
              "      <td>4410</td>\n",
              "      <td>4</td>\n",
              "      <td>3</td>\n",
              "    </tr>\n",
              "  </tbody>\n",
              "</table>\n",
              "<p>4410 rows × 3 columns</p>\n",
              "</div>"
            ],
            "text/plain": [
              "      EmployeeID  JobInvolvement  PerformanceRating\n",
              "0              1               3                  3\n",
              "1              2               2                  4\n",
              "2              3               3                  3\n",
              "3              4               2                  3\n",
              "4              5               3                  3\n",
              "...          ...             ...                ...\n",
              "4405        4406               3                  3\n",
              "4406        4407               2                  3\n",
              "4407        4408               3                  4\n",
              "4408        4409               2                  3\n",
              "4409        4410               4                  3\n",
              "\n",
              "[4410 rows x 3 columns]"
            ]
          },
          "execution_count": 5,
          "metadata": {},
          "output_type": "execute_result"
        }
      ],
      "source": [
        "msd"
      ]
    },
    {
      "cell_type": "code",
      "execution_count": null,
      "id": "7da3da81",
      "metadata": {
        "id": "7da3da81"
      },
      "outputs": [],
      "source": [
        "df=pd.merge(gd,pd.merge(esd,msd,on='EmployeeID'),on='EmployeeID')"
      ]
    },
    {
      "cell_type": "code",
      "execution_count": null,
      "id": "6f2d45a5",
      "metadata": {
        "id": "6f2d45a5",
        "outputId": "e9ae5567-f789-43ad-8461-5a994d9402e7"
      },
      "outputs": [
        {
          "data": {
            "text/html": [
              "<div>\n",
              "<style scoped>\n",
              "    .dataframe tbody tr th:only-of-type {\n",
              "        vertical-align: middle;\n",
              "    }\n",
              "\n",
              "    .dataframe tbody tr th {\n",
              "        vertical-align: top;\n",
              "    }\n",
              "\n",
              "    .dataframe thead th {\n",
              "        text-align: right;\n",
              "    }\n",
              "</style>\n",
              "<table border=\"1\" class=\"dataframe\">\n",
              "  <thead>\n",
              "    <tr style=\"text-align: right;\">\n",
              "      <th></th>\n",
              "      <th>Age</th>\n",
              "      <th>Attrition</th>\n",
              "      <th>BusinessTravel</th>\n",
              "      <th>Department</th>\n",
              "      <th>DistanceFromHome</th>\n",
              "      <th>Education</th>\n",
              "      <th>EducationField</th>\n",
              "      <th>EmployeeCount</th>\n",
              "      <th>EmployeeID</th>\n",
              "      <th>Gender</th>\n",
              "      <th>...</th>\n",
              "      <th>TotalWorkingYears</th>\n",
              "      <th>TrainingTimesLastYear</th>\n",
              "      <th>YearsAtCompany</th>\n",
              "      <th>YearsSinceLastPromotion</th>\n",
              "      <th>YearsWithCurrManager</th>\n",
              "      <th>EnvironmentSatisfaction</th>\n",
              "      <th>JobSatisfaction</th>\n",
              "      <th>WorkLifeBalance</th>\n",
              "      <th>JobInvolvement</th>\n",
              "      <th>PerformanceRating</th>\n",
              "    </tr>\n",
              "  </thead>\n",
              "  <tbody>\n",
              "    <tr>\n",
              "      <th>0</th>\n",
              "      <td>51</td>\n",
              "      <td>No</td>\n",
              "      <td>Travel_Rarely</td>\n",
              "      <td>Sales</td>\n",
              "      <td>6</td>\n",
              "      <td>2</td>\n",
              "      <td>Life Sciences</td>\n",
              "      <td>1</td>\n",
              "      <td>1</td>\n",
              "      <td>Female</td>\n",
              "      <td>...</td>\n",
              "      <td>1.0</td>\n",
              "      <td>6</td>\n",
              "      <td>1</td>\n",
              "      <td>0</td>\n",
              "      <td>0</td>\n",
              "      <td>3.0</td>\n",
              "      <td>4.0</td>\n",
              "      <td>2.0</td>\n",
              "      <td>3</td>\n",
              "      <td>3</td>\n",
              "    </tr>\n",
              "    <tr>\n",
              "      <th>1</th>\n",
              "      <td>31</td>\n",
              "      <td>Yes</td>\n",
              "      <td>Travel_Frequently</td>\n",
              "      <td>Research &amp; Development</td>\n",
              "      <td>10</td>\n",
              "      <td>1</td>\n",
              "      <td>Life Sciences</td>\n",
              "      <td>1</td>\n",
              "      <td>2</td>\n",
              "      <td>Female</td>\n",
              "      <td>...</td>\n",
              "      <td>6.0</td>\n",
              "      <td>3</td>\n",
              "      <td>5</td>\n",
              "      <td>1</td>\n",
              "      <td>4</td>\n",
              "      <td>3.0</td>\n",
              "      <td>2.0</td>\n",
              "      <td>4.0</td>\n",
              "      <td>2</td>\n",
              "      <td>4</td>\n",
              "    </tr>\n",
              "    <tr>\n",
              "      <th>2</th>\n",
              "      <td>32</td>\n",
              "      <td>No</td>\n",
              "      <td>Travel_Frequently</td>\n",
              "      <td>Research &amp; Development</td>\n",
              "      <td>17</td>\n",
              "      <td>4</td>\n",
              "      <td>Other</td>\n",
              "      <td>1</td>\n",
              "      <td>3</td>\n",
              "      <td>Male</td>\n",
              "      <td>...</td>\n",
              "      <td>5.0</td>\n",
              "      <td>2</td>\n",
              "      <td>5</td>\n",
              "      <td>0</td>\n",
              "      <td>3</td>\n",
              "      <td>2.0</td>\n",
              "      <td>2.0</td>\n",
              "      <td>1.0</td>\n",
              "      <td>3</td>\n",
              "      <td>3</td>\n",
              "    </tr>\n",
              "    <tr>\n",
              "      <th>3</th>\n",
              "      <td>38</td>\n",
              "      <td>No</td>\n",
              "      <td>Non-Travel</td>\n",
              "      <td>Research &amp; Development</td>\n",
              "      <td>2</td>\n",
              "      <td>5</td>\n",
              "      <td>Life Sciences</td>\n",
              "      <td>1</td>\n",
              "      <td>4</td>\n",
              "      <td>Male</td>\n",
              "      <td>...</td>\n",
              "      <td>13.0</td>\n",
              "      <td>5</td>\n",
              "      <td>8</td>\n",
              "      <td>7</td>\n",
              "      <td>5</td>\n",
              "      <td>4.0</td>\n",
              "      <td>4.0</td>\n",
              "      <td>3.0</td>\n",
              "      <td>2</td>\n",
              "      <td>3</td>\n",
              "    </tr>\n",
              "    <tr>\n",
              "      <th>4</th>\n",
              "      <td>32</td>\n",
              "      <td>No</td>\n",
              "      <td>Travel_Rarely</td>\n",
              "      <td>Research &amp; Development</td>\n",
              "      <td>10</td>\n",
              "      <td>1</td>\n",
              "      <td>Medical</td>\n",
              "      <td>1</td>\n",
              "      <td>5</td>\n",
              "      <td>Male</td>\n",
              "      <td>...</td>\n",
              "      <td>9.0</td>\n",
              "      <td>2</td>\n",
              "      <td>6</td>\n",
              "      <td>0</td>\n",
              "      <td>4</td>\n",
              "      <td>4.0</td>\n",
              "      <td>1.0</td>\n",
              "      <td>3.0</td>\n",
              "      <td>3</td>\n",
              "      <td>3</td>\n",
              "    </tr>\n",
              "    <tr>\n",
              "      <th>...</th>\n",
              "      <td>...</td>\n",
              "      <td>...</td>\n",
              "      <td>...</td>\n",
              "      <td>...</td>\n",
              "      <td>...</td>\n",
              "      <td>...</td>\n",
              "      <td>...</td>\n",
              "      <td>...</td>\n",
              "      <td>...</td>\n",
              "      <td>...</td>\n",
              "      <td>...</td>\n",
              "      <td>...</td>\n",
              "      <td>...</td>\n",
              "      <td>...</td>\n",
              "      <td>...</td>\n",
              "      <td>...</td>\n",
              "      <td>...</td>\n",
              "      <td>...</td>\n",
              "      <td>...</td>\n",
              "      <td>...</td>\n",
              "      <td>...</td>\n",
              "    </tr>\n",
              "    <tr>\n",
              "      <th>4405</th>\n",
              "      <td>42</td>\n",
              "      <td>No</td>\n",
              "      <td>Travel_Rarely</td>\n",
              "      <td>Research &amp; Development</td>\n",
              "      <td>5</td>\n",
              "      <td>4</td>\n",
              "      <td>Medical</td>\n",
              "      <td>1</td>\n",
              "      <td>4406</td>\n",
              "      <td>Female</td>\n",
              "      <td>...</td>\n",
              "      <td>10.0</td>\n",
              "      <td>5</td>\n",
              "      <td>3</td>\n",
              "      <td>0</td>\n",
              "      <td>2</td>\n",
              "      <td>4.0</td>\n",
              "      <td>1.0</td>\n",
              "      <td>3.0</td>\n",
              "      <td>3</td>\n",
              "      <td>3</td>\n",
              "    </tr>\n",
              "    <tr>\n",
              "      <th>4406</th>\n",
              "      <td>29</td>\n",
              "      <td>No</td>\n",
              "      <td>Travel_Rarely</td>\n",
              "      <td>Research &amp; Development</td>\n",
              "      <td>2</td>\n",
              "      <td>4</td>\n",
              "      <td>Medical</td>\n",
              "      <td>1</td>\n",
              "      <td>4407</td>\n",
              "      <td>Male</td>\n",
              "      <td>...</td>\n",
              "      <td>10.0</td>\n",
              "      <td>2</td>\n",
              "      <td>3</td>\n",
              "      <td>0</td>\n",
              "      <td>2</td>\n",
              "      <td>4.0</td>\n",
              "      <td>4.0</td>\n",
              "      <td>3.0</td>\n",
              "      <td>2</td>\n",
              "      <td>3</td>\n",
              "    </tr>\n",
              "    <tr>\n",
              "      <th>4407</th>\n",
              "      <td>25</td>\n",
              "      <td>No</td>\n",
              "      <td>Travel_Rarely</td>\n",
              "      <td>Research &amp; Development</td>\n",
              "      <td>25</td>\n",
              "      <td>2</td>\n",
              "      <td>Life Sciences</td>\n",
              "      <td>1</td>\n",
              "      <td>4408</td>\n",
              "      <td>Male</td>\n",
              "      <td>...</td>\n",
              "      <td>5.0</td>\n",
              "      <td>4</td>\n",
              "      <td>4</td>\n",
              "      <td>1</td>\n",
              "      <td>2</td>\n",
              "      <td>1.0</td>\n",
              "      <td>3.0</td>\n",
              "      <td>3.0</td>\n",
              "      <td>3</td>\n",
              "      <td>4</td>\n",
              "    </tr>\n",
              "    <tr>\n",
              "      <th>4408</th>\n",
              "      <td>42</td>\n",
              "      <td>No</td>\n",
              "      <td>Travel_Rarely</td>\n",
              "      <td>Sales</td>\n",
              "      <td>18</td>\n",
              "      <td>2</td>\n",
              "      <td>Medical</td>\n",
              "      <td>1</td>\n",
              "      <td>4409</td>\n",
              "      <td>Male</td>\n",
              "      <td>...</td>\n",
              "      <td>10.0</td>\n",
              "      <td>2</td>\n",
              "      <td>9</td>\n",
              "      <td>7</td>\n",
              "      <td>8</td>\n",
              "      <td>4.0</td>\n",
              "      <td>1.0</td>\n",
              "      <td>3.0</td>\n",
              "      <td>2</td>\n",
              "      <td>3</td>\n",
              "    </tr>\n",
              "    <tr>\n",
              "      <th>4409</th>\n",
              "      <td>40</td>\n",
              "      <td>No</td>\n",
              "      <td>Travel_Rarely</td>\n",
              "      <td>Research &amp; Development</td>\n",
              "      <td>28</td>\n",
              "      <td>3</td>\n",
              "      <td>Medical</td>\n",
              "      <td>1</td>\n",
              "      <td>4410</td>\n",
              "      <td>Male</td>\n",
              "      <td>...</td>\n",
              "      <td>NaN</td>\n",
              "      <td>6</td>\n",
              "      <td>21</td>\n",
              "      <td>3</td>\n",
              "      <td>9</td>\n",
              "      <td>1.0</td>\n",
              "      <td>3.0</td>\n",
              "      <td>NaN</td>\n",
              "      <td>4</td>\n",
              "      <td>3</td>\n",
              "    </tr>\n",
              "  </tbody>\n",
              "</table>\n",
              "<p>4410 rows × 29 columns</p>\n",
              "</div>"
            ],
            "text/plain": [
              "      Age Attrition     BusinessTravel              Department  \\\n",
              "0      51        No      Travel_Rarely                   Sales   \n",
              "1      31       Yes  Travel_Frequently  Research & Development   \n",
              "2      32        No  Travel_Frequently  Research & Development   \n",
              "3      38        No         Non-Travel  Research & Development   \n",
              "4      32        No      Travel_Rarely  Research & Development   \n",
              "...   ...       ...                ...                     ...   \n",
              "4405   42        No      Travel_Rarely  Research & Development   \n",
              "4406   29        No      Travel_Rarely  Research & Development   \n",
              "4407   25        No      Travel_Rarely  Research & Development   \n",
              "4408   42        No      Travel_Rarely                   Sales   \n",
              "4409   40        No      Travel_Rarely  Research & Development   \n",
              "\n",
              "      DistanceFromHome  Education EducationField  EmployeeCount  EmployeeID  \\\n",
              "0                    6          2  Life Sciences              1           1   \n",
              "1                   10          1  Life Sciences              1           2   \n",
              "2                   17          4          Other              1           3   \n",
              "3                    2          5  Life Sciences              1           4   \n",
              "4                   10          1        Medical              1           5   \n",
              "...                ...        ...            ...            ...         ...   \n",
              "4405                 5          4        Medical              1        4406   \n",
              "4406                 2          4        Medical              1        4407   \n",
              "4407                25          2  Life Sciences              1        4408   \n",
              "4408                18          2        Medical              1        4409   \n",
              "4409                28          3        Medical              1        4410   \n",
              "\n",
              "      Gender  ...  TotalWorkingYears TrainingTimesLastYear YearsAtCompany  \\\n",
              "0     Female  ...                1.0                     6              1   \n",
              "1     Female  ...                6.0                     3              5   \n",
              "2       Male  ...                5.0                     2              5   \n",
              "3       Male  ...               13.0                     5              8   \n",
              "4       Male  ...                9.0                     2              6   \n",
              "...      ...  ...                ...                   ...            ...   \n",
              "4405  Female  ...               10.0                     5              3   \n",
              "4406    Male  ...               10.0                     2              3   \n",
              "4407    Male  ...                5.0                     4              4   \n",
              "4408    Male  ...               10.0                     2              9   \n",
              "4409    Male  ...                NaN                     6             21   \n",
              "\n",
              "      YearsSinceLastPromotion  YearsWithCurrManager EnvironmentSatisfaction  \\\n",
              "0                           0                     0                     3.0   \n",
              "1                           1                     4                     3.0   \n",
              "2                           0                     3                     2.0   \n",
              "3                           7                     5                     4.0   \n",
              "4                           0                     4                     4.0   \n",
              "...                       ...                   ...                     ...   \n",
              "4405                        0                     2                     4.0   \n",
              "4406                        0                     2                     4.0   \n",
              "4407                        1                     2                     1.0   \n",
              "4408                        7                     8                     4.0   \n",
              "4409                        3                     9                     1.0   \n",
              "\n",
              "      JobSatisfaction  WorkLifeBalance  JobInvolvement  PerformanceRating  \n",
              "0                 4.0              2.0               3                  3  \n",
              "1                 2.0              4.0               2                  4  \n",
              "2                 2.0              1.0               3                  3  \n",
              "3                 4.0              3.0               2                  3  \n",
              "4                 1.0              3.0               3                  3  \n",
              "...               ...              ...             ...                ...  \n",
              "4405              1.0              3.0               3                  3  \n",
              "4406              4.0              3.0               2                  3  \n",
              "4407              3.0              3.0               3                  4  \n",
              "4408              1.0              3.0               2                  3  \n",
              "4409              3.0              NaN               4                  3  \n",
              "\n",
              "[4410 rows x 29 columns]"
            ]
          },
          "execution_count": 7,
          "metadata": {},
          "output_type": "execute_result"
        }
      ],
      "source": [
        "df"
      ]
    },
    {
      "cell_type": "code",
      "execution_count": null,
      "id": "7ef1fb8a",
      "metadata": {
        "id": "7ef1fb8a"
      },
      "outputs": [],
      "source": [
        "# Keeping the reference of the original dataframe\n",
        "dforg=df"
      ]
    },
    {
      "cell_type": "code",
      "execution_count": null,
      "id": "35b13f9e",
      "metadata": {
        "id": "35b13f9e",
        "outputId": "526580fb-c7d4-4f4f-b929-4c2eafb17c62"
      },
      "outputs": [
        {
          "name": "stdout",
          "output_type": "stream",
          "text": [
            "<class 'pandas.core.frame.DataFrame'>\n",
            "Int64Index: 4410 entries, 0 to 4409\n",
            "Data columns (total 29 columns):\n",
            " #   Column                   Non-Null Count  Dtype  \n",
            "---  ------                   --------------  -----  \n",
            " 0   Age                      4410 non-null   int64  \n",
            " 1   Attrition                4410 non-null   object \n",
            " 2   BusinessTravel           4410 non-null   object \n",
            " 3   Department               4410 non-null   object \n",
            " 4   DistanceFromHome         4410 non-null   int64  \n",
            " 5   Education                4410 non-null   int64  \n",
            " 6   EducationField           4410 non-null   object \n",
            " 7   EmployeeCount            4410 non-null   int64  \n",
            " 8   EmployeeID               4410 non-null   int64  \n",
            " 9   Gender                   4410 non-null   object \n",
            " 10  JobLevel                 4410 non-null   int64  \n",
            " 11  JobRole                  4410 non-null   object \n",
            " 12  MaritalStatus            4410 non-null   object \n",
            " 13  MonthlyIncome            4410 non-null   int64  \n",
            " 14  NumCompaniesWorked       4391 non-null   float64\n",
            " 15  Over18                   4410 non-null   object \n",
            " 16  PercentSalaryHike        4410 non-null   int64  \n",
            " 17  StandardHours            4410 non-null   int64  \n",
            " 18  StockOptionLevel         4410 non-null   int64  \n",
            " 19  TotalWorkingYears        4401 non-null   float64\n",
            " 20  TrainingTimesLastYear    4410 non-null   int64  \n",
            " 21  YearsAtCompany           4410 non-null   int64  \n",
            " 22  YearsSinceLastPromotion  4410 non-null   int64  \n",
            " 23  YearsWithCurrManager     4410 non-null   int64  \n",
            " 24  EnvironmentSatisfaction  4385 non-null   float64\n",
            " 25  JobSatisfaction          4390 non-null   float64\n",
            " 26  WorkLifeBalance          4372 non-null   float64\n",
            " 27  JobInvolvement           4410 non-null   int64  \n",
            " 28  PerformanceRating        4410 non-null   int64  \n",
            "dtypes: float64(5), int64(16), object(8)\n",
            "memory usage: 1.0+ MB\n"
          ]
        }
      ],
      "source": [
        "df.info()"
      ]
    },
    {
      "cell_type": "code",
      "execution_count": null,
      "id": "67145ff3",
      "metadata": {
        "id": "67145ff3",
        "outputId": "7740abb4-7557-425c-938b-7a3296a514b1"
      },
      "outputs": [
        {
          "data": {
            "text/plain": [
              "1    4410\n",
              "Name: EmployeeCount, dtype: int64"
            ]
          },
          "execution_count": 11,
          "metadata": {},
          "output_type": "execute_result"
        }
      ],
      "source": [
        "df['EmployeeCount'].value_counts()"
      ]
    },
    {
      "cell_type": "code",
      "execution_count": null,
      "id": "8e2bb6a3",
      "metadata": {
        "id": "8e2bb6a3",
        "outputId": "bc663350-0de3-426d-d6b8-bc93e290f77c"
      },
      "outputs": [
        {
          "data": {
            "text/plain": [
              "Y    4410\n",
              "Name: Over18, dtype: int64"
            ]
          },
          "execution_count": 12,
          "metadata": {},
          "output_type": "execute_result"
        }
      ],
      "source": [
        "df['Over18'].value_counts()"
      ]
    },
    {
      "cell_type": "code",
      "execution_count": null,
      "id": "9f1d9ce6",
      "metadata": {
        "id": "9f1d9ce6",
        "outputId": "db15c288-b3f2-4601-b932-cc5e30fd54b8"
      },
      "outputs": [
        {
          "data": {
            "text/plain": [
              "8    4410\n",
              "Name: StandardHours, dtype: int64"
            ]
          },
          "execution_count": 13,
          "metadata": {},
          "output_type": "execute_result"
        }
      ],
      "source": [
        "df['StandardHours'].value_counts()"
      ]
    },
    {
      "cell_type": "code",
      "execution_count": null,
      "id": "080bb770",
      "metadata": {
        "id": "080bb770"
      },
      "outputs": [],
      "source": [
        "df=df.drop(columns=['EmployeeID','EmployeeCount','Over18','StandardHours'])"
      ]
    },
    {
      "cell_type": "code",
      "execution_count": null,
      "id": "c60917fc",
      "metadata": {
        "id": "c60917fc",
        "outputId": "4ff6279c-4ea6-4bd0-fecc-f2f326b347a7"
      },
      "outputs": [
        {
          "name": "stdout",
          "output_type": "stream",
          "text": [
            "<class 'pandas.core.frame.DataFrame'>\n",
            "Int64Index: 4410 entries, 0 to 4409\n",
            "Data columns (total 25 columns):\n",
            " #   Column                   Non-Null Count  Dtype  \n",
            "---  ------                   --------------  -----  \n",
            " 0   Age                      4410 non-null   int64  \n",
            " 1   Attrition                4410 non-null   object \n",
            " 2   BusinessTravel           4410 non-null   object \n",
            " 3   Department               4410 non-null   object \n",
            " 4   DistanceFromHome         4410 non-null   int64  \n",
            " 5   Education                4410 non-null   int64  \n",
            " 6   EducationField           4410 non-null   object \n",
            " 7   Gender                   4410 non-null   object \n",
            " 8   JobLevel                 4410 non-null   int64  \n",
            " 9   JobRole                  4410 non-null   object \n",
            " 10  MaritalStatus            4410 non-null   object \n",
            " 11  MonthlyIncome            4410 non-null   int64  \n",
            " 12  NumCompaniesWorked       4391 non-null   float64\n",
            " 13  PercentSalaryHike        4410 non-null   int64  \n",
            " 14  StockOptionLevel         4410 non-null   int64  \n",
            " 15  TotalWorkingYears        4401 non-null   float64\n",
            " 16  TrainingTimesLastYear    4410 non-null   int64  \n",
            " 17  YearsAtCompany           4410 non-null   int64  \n",
            " 18  YearsSinceLastPromotion  4410 non-null   int64  \n",
            " 19  YearsWithCurrManager     4410 non-null   int64  \n",
            " 20  EnvironmentSatisfaction  4385 non-null   float64\n",
            " 21  JobSatisfaction          4390 non-null   float64\n",
            " 22  WorkLifeBalance          4372 non-null   float64\n",
            " 23  JobInvolvement           4410 non-null   int64  \n",
            " 24  PerformanceRating        4410 non-null   int64  \n",
            "dtypes: float64(5), int64(13), object(7)\n",
            "memory usage: 895.8+ KB\n"
          ]
        }
      ],
      "source": [
        "df.info()"
      ]
    },
    {
      "cell_type": "code",
      "execution_count": null,
      "id": "4f2b7261",
      "metadata": {
        "id": "4f2b7261",
        "outputId": "3436c3e2-8bd0-42f3-b5ea-e68697a69b65"
      },
      "outputs": [
        {
          "data": {
            "text/plain": [
              "Age                         0\n",
              "Attrition                   0\n",
              "BusinessTravel              0\n",
              "Department                  0\n",
              "DistanceFromHome            0\n",
              "Education                   0\n",
              "EducationField              0\n",
              "Gender                      0\n",
              "JobLevel                    0\n",
              "JobRole                     0\n",
              "MaritalStatus               0\n",
              "MonthlyIncome               0\n",
              "NumCompaniesWorked         19\n",
              "PercentSalaryHike           0\n",
              "StockOptionLevel            0\n",
              "TotalWorkingYears           9\n",
              "TrainingTimesLastYear       0\n",
              "YearsAtCompany              0\n",
              "YearsSinceLastPromotion     0\n",
              "YearsWithCurrManager        0\n",
              "EnvironmentSatisfaction    25\n",
              "JobSatisfaction            20\n",
              "WorkLifeBalance            38\n",
              "JobInvolvement              0\n",
              "PerformanceRating           0\n",
              "dtype: int64"
            ]
          },
          "execution_count": 16,
          "metadata": {},
          "output_type": "execute_result"
        }
      ],
      "source": [
        "df.isna().sum()"
      ]
    },
    {
      "cell_type": "code",
      "execution_count": null,
      "id": "e2a304e2",
      "metadata": {
        "id": "e2a304e2",
        "outputId": "fc09ecb5-d5f9-4b62-890f-73017fbd119e"
      },
      "outputs": [
        {
          "data": {
            "text/plain": [
              "0    3.0\n",
              "dtype: float64"
            ]
          },
          "execution_count": 17,
          "metadata": {},
          "output_type": "execute_result"
        }
      ],
      "source": [
        "df['EnvironmentSatisfaction'].mode()"
      ]
    },
    {
      "cell_type": "code",
      "execution_count": null,
      "id": "e5723a73",
      "metadata": {
        "id": "e5723a73",
        "outputId": "26a1150c-dfb6-4fea-ac0a-35acfb369312"
      },
      "outputs": [
        {
          "data": {
            "text/plain": [
              "0    4.0\n",
              "dtype: float64"
            ]
          },
          "execution_count": 18,
          "metadata": {},
          "output_type": "execute_result"
        }
      ],
      "source": [
        "df['JobSatisfaction'].mode()"
      ]
    },
    {
      "cell_type": "code",
      "execution_count": null,
      "id": "b9feaa8c",
      "metadata": {
        "id": "b9feaa8c",
        "outputId": "44f991df-ce93-497c-e09c-20fa6b7f84dc"
      },
      "outputs": [
        {
          "data": {
            "text/plain": [
              "0    3.0\n",
              "dtype: float64"
            ]
          },
          "execution_count": 19,
          "metadata": {},
          "output_type": "execute_result"
        }
      ],
      "source": [
        "df['WorkLifeBalance'].mode()"
      ]
    },
    {
      "cell_type": "code",
      "execution_count": null,
      "id": "64b3228b",
      "metadata": {
        "id": "64b3228b"
      },
      "outputs": [],
      "source": [
        "df['EnvironmentSatisfaction']=df['EnvironmentSatisfaction'].fillna(3.0)\n",
        "df['JobSatisfaction']=df['JobSatisfaction'].fillna(4.0)\n",
        "df['WorkLifeBalance']=df['WorkLifeBalance'].fillna(3.0)"
      ]
    },
    {
      "cell_type": "code",
      "execution_count": null,
      "id": "b7474dd4",
      "metadata": {
        "id": "b7474dd4",
        "outputId": "2dec7393-78f2-4bba-b19d-b11068bbe716"
      },
      "outputs": [
        {
          "data": {
            "text/plain": [
              "2.0"
            ]
          },
          "execution_count": 21,
          "metadata": {},
          "output_type": "execute_result"
        }
      ],
      "source": [
        "df['NumCompaniesWorked'].median()"
      ]
    },
    {
      "cell_type": "code",
      "execution_count": null,
      "id": "d46e4c38",
      "metadata": {
        "id": "d46e4c38"
      },
      "outputs": [],
      "source": [
        "df['NumCompaniesWorked']=df['NumCompaniesWorked'].fillna(2.0)"
      ]
    },
    {
      "cell_type": "code",
      "execution_count": null,
      "id": "ba8bc076",
      "metadata": {
        "id": "ba8bc076"
      },
      "outputs": [],
      "source": [
        "df['TotalWorkingYears']=df['TotalWorkingYears'].fillna(df['TotalWorkingYears'].mean())"
      ]
    },
    {
      "cell_type": "code",
      "execution_count": null,
      "id": "d54f8ab6",
      "metadata": {
        "id": "d54f8ab6",
        "outputId": "c9aabbcb-a299-411e-aafd-2a16cc7edc11"
      },
      "outputs": [
        {
          "data": {
            "text/plain": [
              "Age                        0\n",
              "Attrition                  0\n",
              "BusinessTravel             0\n",
              "Department                 0\n",
              "DistanceFromHome           0\n",
              "Education                  0\n",
              "EducationField             0\n",
              "Gender                     0\n",
              "JobLevel                   0\n",
              "JobRole                    0\n",
              "MaritalStatus              0\n",
              "MonthlyIncome              0\n",
              "NumCompaniesWorked         0\n",
              "PercentSalaryHike          0\n",
              "StockOptionLevel           0\n",
              "TotalWorkingYears          0\n",
              "TrainingTimesLastYear      0\n",
              "YearsAtCompany             0\n",
              "YearsSinceLastPromotion    0\n",
              "YearsWithCurrManager       0\n",
              "EnvironmentSatisfaction    0\n",
              "JobSatisfaction            0\n",
              "WorkLifeBalance            0\n",
              "JobInvolvement             0\n",
              "PerformanceRating          0\n",
              "dtype: int64"
            ]
          },
          "execution_count": 25,
          "metadata": {},
          "output_type": "execute_result"
        }
      ],
      "source": [
        "df.isna().sum()"
      ]
    },
    {
      "cell_type": "code",
      "execution_count": null,
      "id": "7d4cdd0a",
      "metadata": {
        "id": "7d4cdd0a",
        "outputId": "2d864508-573d-4dd1-f567-742e03b492c6"
      },
      "outputs": [
        {
          "data": {
            "text/plain": [
              "False"
            ]
          },
          "execution_count": 26,
          "metadata": {},
          "output_type": "execute_result"
        }
      ],
      "source": [
        "df.isnull().values.any()"
      ]
    },
    {
      "cell_type": "code",
      "execution_count": null,
      "id": "b169f624",
      "metadata": {
        "id": "b169f624",
        "outputId": "8758e72b-5006-402c-8185-c082de8b1f87"
      },
      "outputs": [
        {
          "data": {
            "text/html": [
              "<div>\n",
              "<style scoped>\n",
              "    .dataframe tbody tr th:only-of-type {\n",
              "        vertical-align: middle;\n",
              "    }\n",
              "\n",
              "    .dataframe tbody tr th {\n",
              "        vertical-align: top;\n",
              "    }\n",
              "\n",
              "    .dataframe thead th {\n",
              "        text-align: right;\n",
              "    }\n",
              "</style>\n",
              "<table border=\"1\" class=\"dataframe\">\n",
              "  <thead>\n",
              "    <tr style=\"text-align: right;\">\n",
              "      <th></th>\n",
              "      <th>Age</th>\n",
              "      <th>Attrition</th>\n",
              "      <th>BusinessTravel</th>\n",
              "      <th>Department</th>\n",
              "      <th>DistanceFromHome</th>\n",
              "      <th>Education</th>\n",
              "      <th>EducationField</th>\n",
              "      <th>Gender</th>\n",
              "      <th>JobLevel</th>\n",
              "      <th>JobRole</th>\n",
              "      <th>...</th>\n",
              "      <th>TotalWorkingYears</th>\n",
              "      <th>TrainingTimesLastYear</th>\n",
              "      <th>YearsAtCompany</th>\n",
              "      <th>YearsSinceLastPromotion</th>\n",
              "      <th>YearsWithCurrManager</th>\n",
              "      <th>EnvironmentSatisfaction</th>\n",
              "      <th>JobSatisfaction</th>\n",
              "      <th>WorkLifeBalance</th>\n",
              "      <th>JobInvolvement</th>\n",
              "      <th>PerformanceRating</th>\n",
              "    </tr>\n",
              "  </thead>\n",
              "  <tbody>\n",
              "    <tr>\n",
              "      <th>0</th>\n",
              "      <td>51</td>\n",
              "      <td>No</td>\n",
              "      <td>Travel_Rarely</td>\n",
              "      <td>Sales</td>\n",
              "      <td>6</td>\n",
              "      <td>2</td>\n",
              "      <td>Life Sciences</td>\n",
              "      <td>Female</td>\n",
              "      <td>1</td>\n",
              "      <td>Healthcare Representative</td>\n",
              "      <td>...</td>\n",
              "      <td>1.000000</td>\n",
              "      <td>6</td>\n",
              "      <td>1</td>\n",
              "      <td>0</td>\n",
              "      <td>0</td>\n",
              "      <td>3.0</td>\n",
              "      <td>4.0</td>\n",
              "      <td>2.0</td>\n",
              "      <td>3</td>\n",
              "      <td>3</td>\n",
              "    </tr>\n",
              "    <tr>\n",
              "      <th>1</th>\n",
              "      <td>31</td>\n",
              "      <td>Yes</td>\n",
              "      <td>Travel_Frequently</td>\n",
              "      <td>Research &amp; Development</td>\n",
              "      <td>10</td>\n",
              "      <td>1</td>\n",
              "      <td>Life Sciences</td>\n",
              "      <td>Female</td>\n",
              "      <td>1</td>\n",
              "      <td>Research Scientist</td>\n",
              "      <td>...</td>\n",
              "      <td>6.000000</td>\n",
              "      <td>3</td>\n",
              "      <td>5</td>\n",
              "      <td>1</td>\n",
              "      <td>4</td>\n",
              "      <td>3.0</td>\n",
              "      <td>2.0</td>\n",
              "      <td>4.0</td>\n",
              "      <td>2</td>\n",
              "      <td>4</td>\n",
              "    </tr>\n",
              "    <tr>\n",
              "      <th>2</th>\n",
              "      <td>32</td>\n",
              "      <td>No</td>\n",
              "      <td>Travel_Frequently</td>\n",
              "      <td>Research &amp; Development</td>\n",
              "      <td>17</td>\n",
              "      <td>4</td>\n",
              "      <td>Other</td>\n",
              "      <td>Male</td>\n",
              "      <td>4</td>\n",
              "      <td>Sales Executive</td>\n",
              "      <td>...</td>\n",
              "      <td>5.000000</td>\n",
              "      <td>2</td>\n",
              "      <td>5</td>\n",
              "      <td>0</td>\n",
              "      <td>3</td>\n",
              "      <td>2.0</td>\n",
              "      <td>2.0</td>\n",
              "      <td>1.0</td>\n",
              "      <td>3</td>\n",
              "      <td>3</td>\n",
              "    </tr>\n",
              "    <tr>\n",
              "      <th>3</th>\n",
              "      <td>38</td>\n",
              "      <td>No</td>\n",
              "      <td>Non-Travel</td>\n",
              "      <td>Research &amp; Development</td>\n",
              "      <td>2</td>\n",
              "      <td>5</td>\n",
              "      <td>Life Sciences</td>\n",
              "      <td>Male</td>\n",
              "      <td>3</td>\n",
              "      <td>Human Resources</td>\n",
              "      <td>...</td>\n",
              "      <td>13.000000</td>\n",
              "      <td>5</td>\n",
              "      <td>8</td>\n",
              "      <td>7</td>\n",
              "      <td>5</td>\n",
              "      <td>4.0</td>\n",
              "      <td>4.0</td>\n",
              "      <td>3.0</td>\n",
              "      <td>2</td>\n",
              "      <td>3</td>\n",
              "    </tr>\n",
              "    <tr>\n",
              "      <th>4</th>\n",
              "      <td>32</td>\n",
              "      <td>No</td>\n",
              "      <td>Travel_Rarely</td>\n",
              "      <td>Research &amp; Development</td>\n",
              "      <td>10</td>\n",
              "      <td>1</td>\n",
              "      <td>Medical</td>\n",
              "      <td>Male</td>\n",
              "      <td>1</td>\n",
              "      <td>Sales Executive</td>\n",
              "      <td>...</td>\n",
              "      <td>9.000000</td>\n",
              "      <td>2</td>\n",
              "      <td>6</td>\n",
              "      <td>0</td>\n",
              "      <td>4</td>\n",
              "      <td>4.0</td>\n",
              "      <td>1.0</td>\n",
              "      <td>3.0</td>\n",
              "      <td>3</td>\n",
              "      <td>3</td>\n",
              "    </tr>\n",
              "    <tr>\n",
              "      <th>...</th>\n",
              "      <td>...</td>\n",
              "      <td>...</td>\n",
              "      <td>...</td>\n",
              "      <td>...</td>\n",
              "      <td>...</td>\n",
              "      <td>...</td>\n",
              "      <td>...</td>\n",
              "      <td>...</td>\n",
              "      <td>...</td>\n",
              "      <td>...</td>\n",
              "      <td>...</td>\n",
              "      <td>...</td>\n",
              "      <td>...</td>\n",
              "      <td>...</td>\n",
              "      <td>...</td>\n",
              "      <td>...</td>\n",
              "      <td>...</td>\n",
              "      <td>...</td>\n",
              "      <td>...</td>\n",
              "      <td>...</td>\n",
              "      <td>...</td>\n",
              "    </tr>\n",
              "    <tr>\n",
              "      <th>4405</th>\n",
              "      <td>42</td>\n",
              "      <td>No</td>\n",
              "      <td>Travel_Rarely</td>\n",
              "      <td>Research &amp; Development</td>\n",
              "      <td>5</td>\n",
              "      <td>4</td>\n",
              "      <td>Medical</td>\n",
              "      <td>Female</td>\n",
              "      <td>1</td>\n",
              "      <td>Research Scientist</td>\n",
              "      <td>...</td>\n",
              "      <td>10.000000</td>\n",
              "      <td>5</td>\n",
              "      <td>3</td>\n",
              "      <td>0</td>\n",
              "      <td>2</td>\n",
              "      <td>4.0</td>\n",
              "      <td>1.0</td>\n",
              "      <td>3.0</td>\n",
              "      <td>3</td>\n",
              "      <td>3</td>\n",
              "    </tr>\n",
              "    <tr>\n",
              "      <th>4406</th>\n",
              "      <td>29</td>\n",
              "      <td>No</td>\n",
              "      <td>Travel_Rarely</td>\n",
              "      <td>Research &amp; Development</td>\n",
              "      <td>2</td>\n",
              "      <td>4</td>\n",
              "      <td>Medical</td>\n",
              "      <td>Male</td>\n",
              "      <td>1</td>\n",
              "      <td>Laboratory Technician</td>\n",
              "      <td>...</td>\n",
              "      <td>10.000000</td>\n",
              "      <td>2</td>\n",
              "      <td>3</td>\n",
              "      <td>0</td>\n",
              "      <td>2</td>\n",
              "      <td>4.0</td>\n",
              "      <td>4.0</td>\n",
              "      <td>3.0</td>\n",
              "      <td>2</td>\n",
              "      <td>3</td>\n",
              "    </tr>\n",
              "    <tr>\n",
              "      <th>4407</th>\n",
              "      <td>25</td>\n",
              "      <td>No</td>\n",
              "      <td>Travel_Rarely</td>\n",
              "      <td>Research &amp; Development</td>\n",
              "      <td>25</td>\n",
              "      <td>2</td>\n",
              "      <td>Life Sciences</td>\n",
              "      <td>Male</td>\n",
              "      <td>2</td>\n",
              "      <td>Sales Executive</td>\n",
              "      <td>...</td>\n",
              "      <td>5.000000</td>\n",
              "      <td>4</td>\n",
              "      <td>4</td>\n",
              "      <td>1</td>\n",
              "      <td>2</td>\n",
              "      <td>1.0</td>\n",
              "      <td>3.0</td>\n",
              "      <td>3.0</td>\n",
              "      <td>3</td>\n",
              "      <td>4</td>\n",
              "    </tr>\n",
              "    <tr>\n",
              "      <th>4408</th>\n",
              "      <td>42</td>\n",
              "      <td>No</td>\n",
              "      <td>Travel_Rarely</td>\n",
              "      <td>Sales</td>\n",
              "      <td>18</td>\n",
              "      <td>2</td>\n",
              "      <td>Medical</td>\n",
              "      <td>Male</td>\n",
              "      <td>1</td>\n",
              "      <td>Laboratory Technician</td>\n",
              "      <td>...</td>\n",
              "      <td>10.000000</td>\n",
              "      <td>2</td>\n",
              "      <td>9</td>\n",
              "      <td>7</td>\n",
              "      <td>8</td>\n",
              "      <td>4.0</td>\n",
              "      <td>1.0</td>\n",
              "      <td>3.0</td>\n",
              "      <td>2</td>\n",
              "      <td>3</td>\n",
              "    </tr>\n",
              "    <tr>\n",
              "      <th>4409</th>\n",
              "      <td>40</td>\n",
              "      <td>No</td>\n",
              "      <td>Travel_Rarely</td>\n",
              "      <td>Research &amp; Development</td>\n",
              "      <td>28</td>\n",
              "      <td>3</td>\n",
              "      <td>Medical</td>\n",
              "      <td>Male</td>\n",
              "      <td>2</td>\n",
              "      <td>Laboratory Technician</td>\n",
              "      <td>...</td>\n",
              "      <td>11.279936</td>\n",
              "      <td>6</td>\n",
              "      <td>21</td>\n",
              "      <td>3</td>\n",
              "      <td>9</td>\n",
              "      <td>1.0</td>\n",
              "      <td>3.0</td>\n",
              "      <td>3.0</td>\n",
              "      <td>4</td>\n",
              "      <td>3</td>\n",
              "    </tr>\n",
              "  </tbody>\n",
              "</table>\n",
              "<p>4410 rows × 25 columns</p>\n",
              "</div>"
            ],
            "text/plain": [
              "      Age Attrition     BusinessTravel              Department  \\\n",
              "0      51        No      Travel_Rarely                   Sales   \n",
              "1      31       Yes  Travel_Frequently  Research & Development   \n",
              "2      32        No  Travel_Frequently  Research & Development   \n",
              "3      38        No         Non-Travel  Research & Development   \n",
              "4      32        No      Travel_Rarely  Research & Development   \n",
              "...   ...       ...                ...                     ...   \n",
              "4405   42        No      Travel_Rarely  Research & Development   \n",
              "4406   29        No      Travel_Rarely  Research & Development   \n",
              "4407   25        No      Travel_Rarely  Research & Development   \n",
              "4408   42        No      Travel_Rarely                   Sales   \n",
              "4409   40        No      Travel_Rarely  Research & Development   \n",
              "\n",
              "      DistanceFromHome  Education EducationField  Gender  JobLevel  \\\n",
              "0                    6          2  Life Sciences  Female         1   \n",
              "1                   10          1  Life Sciences  Female         1   \n",
              "2                   17          4          Other    Male         4   \n",
              "3                    2          5  Life Sciences    Male         3   \n",
              "4                   10          1        Medical    Male         1   \n",
              "...                ...        ...            ...     ...       ...   \n",
              "4405                 5          4        Medical  Female         1   \n",
              "4406                 2          4        Medical    Male         1   \n",
              "4407                25          2  Life Sciences    Male         2   \n",
              "4408                18          2        Medical    Male         1   \n",
              "4409                28          3        Medical    Male         2   \n",
              "\n",
              "                        JobRole  ... TotalWorkingYears  TrainingTimesLastYear  \\\n",
              "0     Healthcare Representative  ...          1.000000                      6   \n",
              "1            Research Scientist  ...          6.000000                      3   \n",
              "2               Sales Executive  ...          5.000000                      2   \n",
              "3               Human Resources  ...         13.000000                      5   \n",
              "4               Sales Executive  ...          9.000000                      2   \n",
              "...                         ...  ...               ...                    ...   \n",
              "4405         Research Scientist  ...         10.000000                      5   \n",
              "4406      Laboratory Technician  ...         10.000000                      2   \n",
              "4407            Sales Executive  ...          5.000000                      4   \n",
              "4408      Laboratory Technician  ...         10.000000                      2   \n",
              "4409      Laboratory Technician  ...         11.279936                      6   \n",
              "\n",
              "      YearsAtCompany  YearsSinceLastPromotion  YearsWithCurrManager  \\\n",
              "0                  1                        0                     0   \n",
              "1                  5                        1                     4   \n",
              "2                  5                        0                     3   \n",
              "3                  8                        7                     5   \n",
              "4                  6                        0                     4   \n",
              "...              ...                      ...                   ...   \n",
              "4405               3                        0                     2   \n",
              "4406               3                        0                     2   \n",
              "4407               4                        1                     2   \n",
              "4408               9                        7                     8   \n",
              "4409              21                        3                     9   \n",
              "\n",
              "      EnvironmentSatisfaction  JobSatisfaction  WorkLifeBalance  \\\n",
              "0                         3.0              4.0              2.0   \n",
              "1                         3.0              2.0              4.0   \n",
              "2                         2.0              2.0              1.0   \n",
              "3                         4.0              4.0              3.0   \n",
              "4                         4.0              1.0              3.0   \n",
              "...                       ...              ...              ...   \n",
              "4405                      4.0              1.0              3.0   \n",
              "4406                      4.0              4.0              3.0   \n",
              "4407                      1.0              3.0              3.0   \n",
              "4408                      4.0              1.0              3.0   \n",
              "4409                      1.0              3.0              3.0   \n",
              "\n",
              "      JobInvolvement  PerformanceRating  \n",
              "0                  3                  3  \n",
              "1                  2                  4  \n",
              "2                  3                  3  \n",
              "3                  2                  3  \n",
              "4                  3                  3  \n",
              "...              ...                ...  \n",
              "4405               3                  3  \n",
              "4406               2                  3  \n",
              "4407               3                  4  \n",
              "4408               2                  3  \n",
              "4409               4                  3  \n",
              "\n",
              "[4410 rows x 25 columns]"
            ]
          },
          "execution_count": 27,
          "metadata": {},
          "output_type": "execute_result"
        }
      ],
      "source": [
        "df"
      ]
    },
    {
      "cell_type": "code",
      "execution_count": null,
      "id": "9bb4ddeb",
      "metadata": {
        "id": "9bb4ddeb",
        "outputId": "732a7e72-7316-4c1b-9a91-218bda7033d8"
      },
      "outputs": [
        {
          "name": "stderr",
          "output_type": "stream",
          "text": [
            "C:\\Users\\Anil Singh\\anaconda3\\lib\\site-packages\\seaborn\\_decorators.py:36: FutureWarning: Pass the following variable as a keyword arg: x. From version 0.12, the only valid positional argument will be `data`, and passing other arguments without an explicit keyword will result in an error or misinterpretation.\n",
            "  warnings.warn(\n"
          ]
        },
        {
          "data": {
            "text/plain": [
              "<AxesSubplot:xlabel='Attrition', ylabel='count'>"
            ]
          },
          "execution_count": 28,
          "metadata": {},
          "output_type": "execute_result"
        },
        {
          "data": {
            "image/png": "[encoded data removed]",
            "text/plain": [
              "<Figure size 432x288 with 1 Axes>"
            ]
          },
          "metadata": {
            "needs_background": "light"
          },
          "output_type": "display_data"
        }
      ],
      "source": [
        "sns.countplot(df['Attrition'])"
      ]
    },
    {
      "cell_type": "code",
      "execution_count": null,
      "id": "fe57e478",
      "metadata": {
        "id": "fe57e478",
        "outputId": "273186bb-0e63-4016-e0bc-3e02835450df"
      },
      "outputs": [
        {
          "data": {
            "text/plain": [
              "No     3699\n",
              "Yes     711\n",
              "Name: Attrition, dtype: int64"
            ]
          },
          "execution_count": 29,
          "metadata": {},
          "output_type": "execute_result"
        }
      ],
      "source": [
        "df['Attrition'].value_counts()"
      ]
    },
    {
      "cell_type": "code",
      "execution_count": null,
      "id": "3a4f441f",
      "metadata": {
        "id": "3a4f441f",
        "outputId": "8c8883d8-0b0b-484a-8137-5fb74e1ced6d"
      },
      "outputs": [
        {
          "data": {
            "text/plain": [
              "16.122448979591837"
            ]
          },
          "execution_count": 30,
          "metadata": {},
          "output_type": "execute_result"
        }
      ],
      "source": [
        "# Calculating the Attrition in Percentage\n",
        "\n",
        "(711*100)/(711+3699)"
      ]
    },
    {
      "cell_type": "code",
      "execution_count": null,
      "id": "709f54db",
      "metadata": {
        "id": "709f54db",
        "outputId": "d85ae9fc-bbea-429e-862f-ddd6eb202897"
      },
      "outputs": [
        {
          "data": {
            "text/plain": [
              "0.8077858880778589"
            ]
          },
          "execution_count": 31,
          "metadata": {},
          "output_type": "execute_result"
        }
      ],
      "source": [
        "# Probability of guessing a 'No' for attrition\n",
        "(3699-711)/3699"
      ]
    },
    {
      "cell_type": "code",
      "execution_count": null,
      "id": "27eafaf4",
      "metadata": {
        "id": "27eafaf4",
        "outputId": "68d48f4c-d8b3-4b73-d9c5-f0751609c15c"
      },
      "outputs": [
        {
          "data": {
            "text/plain": [
              "<AxesSubplot:xlabel='Age', ylabel='count'>"
            ]
          },
          "execution_count": 32,
          "metadata": {},
          "output_type": "execute_result"
        },
        {
          "data": {
            "image/png": "[encoded data removed]",
            "text/plain": [
              "<Figure size 1152x432 with 1 Axes>"
            ]
          },
          "metadata": {
            "needs_background": "light"
          },
          "output_type": "display_data"
        }
      ],
      "source": [
        "plt.figure(figsize=(16,6))\n",
        "sns.countplot(x='Age',hue='Attrition',data=df)"
      ]
    },
    {
      "cell_type": "markdown",
      "id": "8c45cba5",
      "metadata": {
        "id": "8c45cba5"
      },
      "source": [
        "The above plot clearly shows that there are very high chances of employees of age group 18-23 leaving the company. In fact, there are more number of employees of age 18-21 who leave as compared to those stay with the company.\n",
        "Thus, either the company should avoid hiring people of this age group or there should be adequate measures taken in order to address this situation.\n",
        "Also, employees of age 58 are too much prone to leave the company and this trend needs to be addressed."
      ]
    },
    {
      "cell_type": "code",
      "execution_count": null,
      "id": "3bbd0441",
      "metadata": {
        "id": "3bbd0441",
        "outputId": "51127763-4ec3-49f6-82c6-7a9c61758925"
      },
      "outputs": [
        {
          "data": {
            "text/plain": [
              "<AxesSubplot:xlabel='JobLevel', ylabel='count'>"
            ]
          },
          "execution_count": 33,
          "metadata": {},
          "output_type": "execute_result"
        },
        {
          "data": {
            "image/png": "[encoded data removed]",
            "text/plain": [
              "<Figure size 1152x432 with 1 Axes>"
            ]
          },
          "metadata": {
            "needs_background": "light"
          },
          "output_type": "display_data"
        }
      ],
      "source": [
        "plt.figure(figsize=(16,6))\n",
        "sns.countplot(x='JobLevel',hue='Attrition',data=df)"
      ]
    },
    {
      "cell_type": "code",
      "execution_count": null,
      "id": "aa4cd4a6",
      "metadata": {
        "scrolled": false,
        "id": "aa4cd4a6",
        "outputId": "996da4a3-de12-41fa-a663-f817ce67223b"
      },
      "outputs": [
        {
          "data": {
            "text/plain": [
              "<AxesSubplot:xlabel='DistanceFromHome', ylabel='count'>"
            ]
          },
          "execution_count": 34,
          "metadata": {},
          "output_type": "execute_result"
        },
        {
          "data": {
            "image/png": "[encoded data removed]",
            "text/plain": [
              "<Figure size 1152x432 with 1 Axes>"
            ]
          },
          "metadata": {
            "needs_background": "light"
          },
          "output_type": "display_data"
        }
      ],
      "source": [
        "plt.figure(figsize=(16,6))\n",
        "sns.countplot(x='DistanceFromHome',hue='Attrition',data=df)"
      ]
    },
    {
      "cell_type": "code",
      "execution_count": null,
      "id": "807332c8",
      "metadata": {
        "id": "807332c8",
        "outputId": "25ce31e7-b0b3-4516-ec92-c41ab0e53fa0"
      },
      "outputs": [
        {
          "data": {
            "text/plain": [
              "<AxesSubplot:xlabel='Education', ylabel='count'>"
            ]
          },
          "execution_count": 35,
          "metadata": {},
          "output_type": "execute_result"
        },
        {
          "data": {
            "image/png": "[encoded data removed]",
            "text/plain": [
              "<Figure size 1152x432 with 1 Axes>"
            ]
          },
          "metadata": {
            "needs_background": "light"
          },
          "output_type": "display_data"
        }
      ],
      "source": [
        "plt.figure(figsize=(16,6))\n",
        "sns.countplot(x='Education',hue='Attrition',data=df)"
      ]
    },
    {
      "cell_type": "code",
      "execution_count": null,
      "id": "96c55619",
      "metadata": {
        "id": "96c55619",
        "outputId": "ab2162fa-b183-440c-a9ef-bd9c650715b7"
      },
      "outputs": [
        {
          "data": {
            "text/plain": [
              "<AxesSubplot:xlabel='NumCompaniesWorked', ylabel='count'>"
            ]
          },
          "execution_count": 36,
          "metadata": {},
          "output_type": "execute_result"
        },
        {
          "data": {
            "image/png": "[encoded data removed]",
            "text/plain": [
              "<Figure size 1152x432 with 1 Axes>"
            ]
          },
          "metadata": {
            "needs_background": "light"
          },
          "output_type": "display_data"
        }
      ],
      "source": [
        "plt.figure(figsize=(16,6))\n",
        "sns.countplot(x='NumCompaniesWorked',hue='Attrition',data=df)"
      ]
    },
    {
      "cell_type": "code",
      "execution_count": null,
      "id": "8ec2e3ce",
      "metadata": {
        "id": "8ec2e3ce",
        "outputId": "7f1fc712-d983-4181-d0d4-14e00c610871"
      },
      "outputs": [
        {
          "data": {
            "text/plain": [
              "<AxesSubplot:xlabel='StockOptionLevel', ylabel='count'>"
            ]
          },
          "execution_count": 37,
          "metadata": {},
          "output_type": "execute_result"
        },
        {
          "data": {
            "image/png": "[encoded data removed]",
            "text/plain": [
              "<Figure size 1152x432 with 1 Axes>"
            ]
          },
          "metadata": {
            "needs_background": "light"
          },
          "output_type": "display_data"
        }
      ],
      "source": [
        "plt.figure(figsize=(16,6))\n",
        "sns.countplot(x='StockOptionLevel',hue='Attrition',data=df)"
      ]
    },
    {
      "cell_type": "code",
      "execution_count": null,
      "id": "aca652b8",
      "metadata": {
        "id": "aca652b8",
        "outputId": "bdf88ced-16ad-4b3f-a8bb-a77ad16e297b"
      },
      "outputs": [
        {
          "data": {
            "text/plain": [
              "<AxesSubplot:xlabel='TrainingTimesLastYear', ylabel='count'>"
            ]
          },
          "execution_count": 38,
          "metadata": {},
          "output_type": "execute_result"
        },
        {
          "data": {
            "image/png": "[encoded data removed]",
            "text/plain": [
              "<Figure size 1152x432 with 1 Axes>"
            ]
          },
          "metadata": {
            "needs_background": "light"
          },
          "output_type": "display_data"
        }
      ],
      "source": [
        "plt.figure(figsize=(16,6))\n",
        "sns.countplot(x='TrainingTimesLastYear',hue='Attrition',data=df)"
      ]
    },
    {
      "cell_type": "code",
      "execution_count": null,
      "id": "394b7bed",
      "metadata": {
        "id": "394b7bed",
        "outputId": "84f5b1b2-1106-42d7-bd80-2d0c7b3aaf85"
      },
      "outputs": [
        {
          "data": {
            "text/plain": [
              "<AxesSubplot:xlabel='YearsAtCompany', ylabel='count'>"
            ]
          },
          "execution_count": 39,
          "metadata": {},
          "output_type": "execute_result"
        },
        {
          "data": {
            "image/png": "[encoded data removed]",
            "text/plain": [
              "<Figure size 1152x432 with 1 Axes>"
            ]
          },
          "metadata": {
            "needs_background": "light"
          },
          "output_type": "display_data"
        }
      ],
      "source": [
        "plt.figure(figsize=(16,6))\n",
        "sns.countplot(x='YearsAtCompany',hue='Attrition',data=df)"
      ]
    },
    {
      "cell_type": "markdown",
      "id": "63aa193f",
      "metadata": {
        "id": "63aa193f"
      },
      "source": [
        "The above plot indicates that the attrition chances are high for employees working since 0-2 years with the company."
      ]
    },
    {
      "cell_type": "code",
      "execution_count": null,
      "id": "862e15eb",
      "metadata": {
        "id": "862e15eb",
        "outputId": "186ce381-9d3e-4de0-e80f-62a5f976541a"
      },
      "outputs": [
        {
          "data": {
            "text/plain": [
              "<AxesSubplot:xlabel='YearsSinceLastPromotion', ylabel='count'>"
            ]
          },
          "execution_count": 40,
          "metadata": {},
          "output_type": "execute_result"
        },
        {
          "data": {
            "image/png": "[encoded data removed]",
            "text/plain": [
              "<Figure size 1152x432 with 1 Axes>"
            ]
          },
          "metadata": {
            "needs_background": "light"
          },
          "output_type": "display_data"
        }
      ],
      "source": [
        "plt.figure(figsize=(16,6))\n",
        "sns.countplot(x='YearsSinceLastPromotion',hue='Attrition',data=df)"
      ]
    },
    {
      "cell_type": "code",
      "execution_count": null,
      "id": "21a13570",
      "metadata": {
        "id": "21a13570",
        "outputId": "8290325d-2df8-490d-f4db-7a3ca718a514"
      },
      "outputs": [
        {
          "data": {
            "text/plain": [
              "<AxesSubplot:xlabel='EnvironmentSatisfaction', ylabel='count'>"
            ]
          },
          "execution_count": 41,
          "metadata": {},
          "output_type": "execute_result"
        },
        {
          "data": {
            "image/png": "[encoded data removed]",
            "text/plain": [
              "<Figure size 1152x432 with 1 Axes>"
            ]
          },
          "metadata": {
            "needs_background": "light"
          },
          "output_type": "display_data"
        }
      ],
      "source": [
        "plt.figure(figsize=(16,6))\n",
        "sns.countplot(x='EnvironmentSatisfaction',hue='Attrition',data=df)"
      ]
    },
    {
      "cell_type": "markdown",
      "id": "dc68c451",
      "metadata": {
        "id": "dc68c451"
      },
      "source": [
        "There are more than 1300 employees currently working with the company who have rated either 1 or 2 for the Environment Satisfaction. These account for the 36 percent of the total manpower(3699) presently working. There may be chances that these employees leave the company similar to around 350 other employees who have already left with such ratings given. In order to avoid such a situation, the company needs to address this issue right away."
      ]
    },
    {
      "cell_type": "code",
      "execution_count": null,
      "id": "636a02e0",
      "metadata": {
        "id": "636a02e0",
        "outputId": "1d02598a-e5a9-44f3-ae5d-a13f0941b8eb"
      },
      "outputs": [
        {
          "data": {
            "text/plain": [
              "<AxesSubplot:xlabel='JobSatisfaction', ylabel='count'>"
            ]
          },
          "execution_count": 42,
          "metadata": {},
          "output_type": "execute_result"
        },
        {
          "data": {
            "image/png": "[encoded data removed]",
            "text/plain": [
              "<Figure size 1152x432 with 1 Axes>"
            ]
          },
          "metadata": {
            "needs_background": "light"
          },
          "output_type": "display_data"
        }
      ],
      "source": [
        "plt.figure(figsize=(16,6))\n",
        "sns.countplot(x='JobSatisfaction',hue='Attrition',data=df)"
      ]
    },
    {
      "cell_type": "markdown",
      "id": "46e62a90",
      "metadata": {
        "id": "46e62a90"
      },
      "source": [
        "There are around 1350 employees currently working with the company who have rated either 1 or 2 for the Job Satisfaction. These account for the 36.49 percent of the total manpower(3699) presently working. There may be chances that these employees leave the company similar to around 400 other employees who have already left with such ratings given. In order to avoid such a situation, the company needs to address this issue right away."
      ]
    },
    {
      "cell_type": "code",
      "execution_count": null,
      "id": "923cff76",
      "metadata": {
        "id": "923cff76",
        "outputId": "a6a320bf-2f70-429f-ec2a-3a3cc3a98b88"
      },
      "outputs": [
        {
          "data": {
            "text/plain": [
              "<AxesSubplot:xlabel='WorkLifeBalance', ylabel='count'>"
            ]
          },
          "execution_count": 43,
          "metadata": {},
          "output_type": "execute_result"
        },
        {
          "data": {
            "image/png": "[encoded data removed]",
            "text/plain": [
              "<Figure size 1152x432 with 1 Axes>"
            ]
          },
          "metadata": {
            "needs_background": "light"
          },
          "output_type": "display_data"
        }
      ],
      "source": [
        "plt.figure(figsize=(16,6))\n",
        "sns.countplot(x='WorkLifeBalance',hue='Attrition',data=df)"
      ]
    },
    {
      "cell_type": "markdown",
      "id": "c4dc5458",
      "metadata": {
        "id": "c4dc5458"
      },
      "source": [
        "There are around 1000 employees currently working with the company who have rated either 1 or 2 for the Work Life Balance. These account for the 27.034 percent of the total manpower(3699) presently working. There may be chances that these employees leave the company similar to around 300 other employees who have already left with such ratings given. In order to avoid such a situation, the company needs to address this issue right away."
      ]
    },
    {
      "cell_type": "code",
      "execution_count": null,
      "id": "a69eba7d",
      "metadata": {
        "id": "a69eba7d",
        "outputId": "fb8beab8-5ba2-4430-90a0-8a7f74322e1b"
      },
      "outputs": [
        {
          "data": {
            "text/plain": [
              "<AxesSubplot:xlabel='JobInvolvement', ylabel='count'>"
            ]
          },
          "execution_count": 44,
          "metadata": {},
          "output_type": "execute_result"
        },
        {
          "data": {
            "image/png": "[encoded data removed]",
            "text/plain": [
              "<Figure size 1152x432 with 1 Axes>"
            ]
          },
          "metadata": {
            "needs_background": "light"
          },
          "output_type": "display_data"
        }
      ],
      "source": [
        "plt.figure(figsize=(16,6))\n",
        "sns.countplot(x='JobInvolvement',hue='Attrition',data=df)"
      ]
    },
    {
      "cell_type": "markdown",
      "id": "48d23bea",
      "metadata": {
        "id": "48d23bea"
      },
      "source": [
        "There are around 1200 employees currently working with the company who have rated either 1 or 2 for the Job Involvment. These account for the 32.44 percent of the total manpower(3699) presently working. There may be chances that these employees leave the company similar to around 250 other employees who have already left with such ratings given. In order to avoid such a situation, the company needs to address this issue right away."
      ]
    },
    {
      "cell_type": "code",
      "execution_count": null,
      "id": "070b3ec9",
      "metadata": {
        "id": "070b3ec9",
        "outputId": "b11133e9-1138-41ad-c0f0-3f56750a7611"
      },
      "outputs": [
        {
          "data": {
            "text/plain": [
              "<AxesSubplot:xlabel='PerformanceRating', ylabel='count'>"
            ]
          },
          "execution_count": 45,
          "metadata": {},
          "output_type": "execute_result"
        },
        {
          "data": {
            "image/png": "[encoded data removed]",
            "text/plain": [
              "<Figure size 1152x432 with 1 Axes>"
            ]
          },
          "metadata": {
            "needs_background": "light"
          },
          "output_type": "display_data"
        }
      ],
      "source": [
        "plt.figure(figsize=(16,6))\n",
        "sns.countplot(x='PerformanceRating',hue='Attrition',data=df)"
      ]
    },
    {
      "cell_type": "code",
      "execution_count": null,
      "id": "6a412bfa",
      "metadata": {
        "id": "6a412bfa",
        "outputId": "6f336414-6016-49b6-babc-895de3bdcd8c"
      },
      "outputs": [
        {
          "name": "stdout",
          "output_type": "stream",
          "text": [
            "Attrition : ['No' 'Yes']\n",
            "No     3699\n",
            "Yes     711\n",
            "Name: Attrition, dtype: int64\n",
            "________________________________________________________________________________________________\n",
            "BusinessTravel : ['Travel_Rarely' 'Travel_Frequently' 'Non-Travel']\n",
            "Travel_Rarely        3129\n",
            "Travel_Frequently     831\n",
            "Non-Travel            450\n",
            "Name: BusinessTravel, dtype: int64\n",
            "________________________________________________________________________________________________\n",
            "Department : ['Sales' 'Research & Development' 'Human Resources']\n",
            "Research & Development    2883\n",
            "Sales                     1338\n",
            "Human Resources            189\n",
            "Name: Department, dtype: int64\n",
            "________________________________________________________________________________________________\n",
            "EducationField : ['Life Sciences' 'Other' 'Medical' 'Marketing' 'Technical Degree'\n",
            " 'Human Resources']\n",
            "Life Sciences       1818\n",
            "Medical             1392\n",
            "Marketing            477\n",
            "Technical Degree     396\n",
            "Other                246\n",
            "Human Resources       81\n",
            "Name: EducationField, dtype: int64\n",
            "________________________________________________________________________________________________\n",
            "Gender : ['Female' 'Male']\n",
            "Male      2646\n",
            "Female    1764\n",
            "Name: Gender, dtype: int64\n",
            "________________________________________________________________________________________________\n",
            "JobRole : ['Healthcare Representative' 'Research Scientist' 'Sales Executive'\n",
            " 'Human Resources' 'Research Director' 'Laboratory Technician'\n",
            " 'Manufacturing Director' 'Sales Representative' 'Manager']\n",
            "Sales Executive              978\n",
            "Research Scientist           876\n",
            "Laboratory Technician        777\n",
            "Manufacturing Director       435\n",
            "Healthcare Representative    393\n",
            "Manager                      306\n",
            "Sales Representative         249\n",
            "Research Director            240\n",
            "Human Resources              156\n",
            "Name: JobRole, dtype: int64\n",
            "________________________________________________________________________________________________\n",
            "MaritalStatus : ['Married' 'Single' 'Divorced']\n",
            "Married     2019\n",
            "Single      1410\n",
            "Divorced     981\n",
            "Name: MaritalStatus, dtype: int64\n",
            "________________________________________________________________________________________________\n"
          ]
        }
      ],
      "source": [
        "for column in df.columns:\n",
        "    if df[column].dtype==object:\n",
        "        print(str(column)+' : '+str(df[column].unique()))\n",
        "        print(df[column].value_counts())\n",
        "        print('________________________________________________________________________________________________')"
      ]
    },
    {
      "cell_type": "code",
      "execution_count": null,
      "id": "29383d9c",
      "metadata": {
        "id": "29383d9c",
        "outputId": "8fec9a69-664f-4e38-8139-eecacadaa334"
      },
      "outputs": [
        {
          "data": {
            "text/plain": [
              "<AxesSubplot:xlabel='BusinessTravel', ylabel='count'>"
            ]
          },
          "execution_count": 47,
          "metadata": {},
          "output_type": "execute_result"
        },
        {
          "data": {
            "image/png": "[encoded data removed]",
            "text/plain": [
              "<Figure size 1152x432 with 1 Axes>"
            ]
          },
          "metadata": {
            "needs_background": "light"
          },
          "output_type": "display_data"
        }
      ],
      "source": [
        "plt.figure(figsize=(16,6))\n",
        "sns.countplot(x='BusinessTravel',hue='Attrition',data=df)"
      ]
    },
    {
      "cell_type": "code",
      "execution_count": null,
      "id": "a930948e",
      "metadata": {
        "id": "a930948e",
        "outputId": "1cfda0bc-3ba9-4529-c064-9b98e871360e"
      },
      "outputs": [
        {
          "data": {
            "text/plain": [
              "<AxesSubplot:xlabel='Department', ylabel='count'>"
            ]
          },
          "execution_count": 48,
          "metadata": {},
          "output_type": "execute_result"
        },
        {
          "data": {
            "image/png": "[encoded data removed]",
            "text/plain": [
              "<Figure size 1152x432 with 1 Axes>"
            ]
          },
          "metadata": {
            "needs_background": "light"
          },
          "output_type": "display_data"
        }
      ],
      "source": [
        "plt.figure(figsize=(16,6))\n",
        "sns.countplot(x='Department',hue='Attrition',data=df)"
      ]
    },
    {
      "cell_type": "markdown",
      "id": "312c7eac",
      "metadata": {
        "id": "312c7eac"
      },
      "source": [
        "Human Resouces department has high trend of attrition."
      ]
    },
    {
      "cell_type": "code",
      "execution_count": null,
      "id": "c6315b87",
      "metadata": {
        "id": "c6315b87",
        "outputId": "b326e1cf-ffaa-424f-9cc1-77092fdf2e28"
      },
      "outputs": [
        {
          "data": {
            "text/plain": [
              "<AxesSubplot:xlabel='EducationField', ylabel='count'>"
            ]
          },
          "execution_count": 49,
          "metadata": {},
          "output_type": "execute_result"
        },
        {
          "data": {
            "image/png": "[encoded data removed]",
            "text/plain": [
              "<Figure size 1152x432 with 1 Axes>"
            ]
          },
          "metadata": {
            "needs_background": "light"
          },
          "output_type": "display_data"
        }
      ],
      "source": [
        "plt.figure(figsize=(16,6))\n",
        "sns.countplot(x='EducationField',hue='Attrition',data=df)"
      ]
    },
    {
      "cell_type": "markdown",
      "id": "48ec2985",
      "metadata": {
        "id": "48ec2985"
      },
      "source": [
        "Education field of Human Resources has very high attrition and this needs to be addressed on top priority."
      ]
    },
    {
      "cell_type": "code",
      "execution_count": null,
      "id": "3344f08b",
      "metadata": {
        "id": "3344f08b",
        "outputId": "dbd9da3d-088f-41c0-8a7e-ff1d2873d634"
      },
      "outputs": [
        {
          "data": {
            "text/plain": [
              "<AxesSubplot:xlabel='Gender', ylabel='count'>"
            ]
          },
          "execution_count": 50,
          "metadata": {},
          "output_type": "execute_result"
        },
        {
          "data": {
            "image/png": "[encoded data removed]",
            "text/plain": [
              "<Figure size 1152x432 with 1 Axes>"
            ]
          },
          "metadata": {
            "needs_background": "light"
          },
          "output_type": "display_data"
        }
      ],
      "source": [
        "plt.figure(figsize=(16,6))\n",
        "sns.countplot(x='Gender',hue='Attrition',data=df)"
      ]
    },
    {
      "cell_type": "code",
      "execution_count": null,
      "id": "c37e9ae3",
      "metadata": {
        "id": "c37e9ae3",
        "outputId": "d340e6a9-630c-4fdb-d516-4dffaa306a33"
      },
      "outputs": [
        {
          "data": {
            "text/plain": [
              "<AxesSubplot:xlabel='JobRole', ylabel='count'>"
            ]
          },
          "execution_count": 51,
          "metadata": {},
          "output_type": "execute_result"
        },
        {
          "data": {
            "image/png": "[encoded data removed]",
            "text/plain": [
              "<Figure size 1440x432 with 1 Axes>"
            ]
          },
          "metadata": {
            "needs_background": "light"
          },
          "output_type": "display_data"
        }
      ],
      "source": [
        "plt.figure(figsize=(20,6))\n",
        "sns.countplot(x='JobRole',hue='Attrition',data=df)"
      ]
    },
    {
      "cell_type": "code",
      "execution_count": null,
      "id": "0699ff32",
      "metadata": {
        "id": "0699ff32",
        "outputId": "fcd5b3d0-d730-4ef3-9c55-76d8f6089599"
      },
      "outputs": [
        {
          "data": {
            "text/plain": [
              "<AxesSubplot:xlabel='MaritalStatus', ylabel='count'>"
            ]
          },
          "execution_count": 52,
          "metadata": {},
          "output_type": "execute_result"
        },
        {
          "data": {
            "image/png": "[encoded data removed]",
            "text/plain": [
              "<Figure size 1152x432 with 1 Axes>"
            ]
          },
          "metadata": {
            "needs_background": "light"
          },
          "output_type": "display_data"
        }
      ],
      "source": [
        "plt.figure(figsize=(16,6))\n",
        "sns.countplot(x='MaritalStatus',hue='Attrition',data=df)"
      ]
    },
    {
      "cell_type": "code",
      "execution_count": null,
      "id": "4b716425",
      "metadata": {
        "id": "4b716425",
        "outputId": "fd3a20c8-286f-4631-dc9b-1e9ff0af5c69"
      },
      "outputs": [
        {
          "data": {
            "text/plain": [
              "<AxesSubplot:>"
            ]
          },
          "execution_count": 53,
          "metadata": {},
          "output_type": "execute_result"
        },
        {
          "data": {
            "image/png": "[encoded data removed]",
            "text/plain": [
              "<Figure size 1440x1080 with 2 Axes>"
            ]
          },
          "metadata": {
            "needs_background": "light"
          },
          "output_type": "display_data"
        }
      ],
      "source": [
        "plt.figure(figsize=(20,15))\n",
        "sns.heatmap(df.corr(),annot=True,fmt='.0%')"
      ]
    },
    {
      "cell_type": "code",
      "execution_count": null,
      "id": "0c182551",
      "metadata": {
        "id": "0c182551",
        "outputId": "ba48bac2-7f16-4509-f9d0-bcb04d2ad60c"
      },
      "outputs": [
        {
          "name": "stderr",
          "output_type": "stream",
          "text": [
            "C:\\Users\\ANILSI~1\\AppData\\Local\\Temp/ipykernel_9728/2326360569.py:4: DeprecationWarning: Converting `np.inexact` or `np.floating` to a dtype is deprecated. The current result is `float64` which is not strictly correct.\n",
            "  if df[column].dtype==np.number:\n"
          ]
        }
      ],
      "source": [
        "from sklearn.preprocessing import LabelEncoder\n",
        "\n",
        "for column in df.columns:\n",
        "    if df[column].dtype==np.number:\n",
        "        continue\n",
        "    df[column]=LabelEncoder().fit_transform(df[column])"
      ]
    },
    {
      "cell_type": "code",
      "execution_count": null,
      "id": "9c7c8ff9",
      "metadata": {
        "id": "9c7c8ff9",
        "outputId": "9dd59d11-26ad-4d80-ef8f-901504bf9d59"
      },
      "outputs": [
        {
          "data": {
            "text/html": [
              "<div>\n",
              "<style scoped>\n",
              "    .dataframe tbody tr th:only-of-type {\n",
              "        vertical-align: middle;\n",
              "    }\n",
              "\n",
              "    .dataframe tbody tr th {\n",
              "        vertical-align: top;\n",
              "    }\n",
              "\n",
              "    .dataframe thead th {\n",
              "        text-align: right;\n",
              "    }\n",
              "</style>\n",
              "<table border=\"1\" class=\"dataframe\">\n",
              "  <thead>\n",
              "    <tr style=\"text-align: right;\">\n",
              "      <th></th>\n",
              "      <th>Age</th>\n",
              "      <th>Attrition</th>\n",
              "      <th>BusinessTravel</th>\n",
              "      <th>Department</th>\n",
              "      <th>DistanceFromHome</th>\n",
              "      <th>Education</th>\n",
              "      <th>EducationField</th>\n",
              "      <th>Gender</th>\n",
              "      <th>JobLevel</th>\n",
              "      <th>JobRole</th>\n",
              "      <th>...</th>\n",
              "      <th>TotalWorkingYears</th>\n",
              "      <th>TrainingTimesLastYear</th>\n",
              "      <th>YearsAtCompany</th>\n",
              "      <th>YearsSinceLastPromotion</th>\n",
              "      <th>YearsWithCurrManager</th>\n",
              "      <th>EnvironmentSatisfaction</th>\n",
              "      <th>JobSatisfaction</th>\n",
              "      <th>WorkLifeBalance</th>\n",
              "      <th>JobInvolvement</th>\n",
              "      <th>PerformanceRating</th>\n",
              "    </tr>\n",
              "  </thead>\n",
              "  <tbody>\n",
              "    <tr>\n",
              "      <th>0</th>\n",
              "      <td>33</td>\n",
              "      <td>0</td>\n",
              "      <td>2</td>\n",
              "      <td>2</td>\n",
              "      <td>5</td>\n",
              "      <td>1</td>\n",
              "      <td>1</td>\n",
              "      <td>0</td>\n",
              "      <td>0</td>\n",
              "      <td>0</td>\n",
              "      <td>...</td>\n",
              "      <td>1.000000</td>\n",
              "      <td>6</td>\n",
              "      <td>1</td>\n",
              "      <td>0</td>\n",
              "      <td>0</td>\n",
              "      <td>3.0</td>\n",
              "      <td>4.0</td>\n",
              "      <td>2.0</td>\n",
              "      <td>2</td>\n",
              "      <td>0</td>\n",
              "    </tr>\n",
              "    <tr>\n",
              "      <th>1</th>\n",
              "      <td>13</td>\n",
              "      <td>1</td>\n",
              "      <td>1</td>\n",
              "      <td>1</td>\n",
              "      <td>9</td>\n",
              "      <td>0</td>\n",
              "      <td>1</td>\n",
              "      <td>0</td>\n",
              "      <td>0</td>\n",
              "      <td>6</td>\n",
              "      <td>...</td>\n",
              "      <td>6.000000</td>\n",
              "      <td>3</td>\n",
              "      <td>5</td>\n",
              "      <td>1</td>\n",
              "      <td>4</td>\n",
              "      <td>3.0</td>\n",
              "      <td>2.0</td>\n",
              "      <td>4.0</td>\n",
              "      <td>1</td>\n",
              "      <td>1</td>\n",
              "    </tr>\n",
              "    <tr>\n",
              "      <th>2</th>\n",
              "      <td>14</td>\n",
              "      <td>0</td>\n",
              "      <td>1</td>\n",
              "      <td>1</td>\n",
              "      <td>16</td>\n",
              "      <td>3</td>\n",
              "      <td>4</td>\n",
              "      <td>1</td>\n",
              "      <td>3</td>\n",
              "      <td>7</td>\n",
              "      <td>...</td>\n",
              "      <td>5.000000</td>\n",
              "      <td>2</td>\n",
              "      <td>5</td>\n",
              "      <td>0</td>\n",
              "      <td>3</td>\n",
              "      <td>2.0</td>\n",
              "      <td>2.0</td>\n",
              "      <td>1.0</td>\n",
              "      <td>2</td>\n",
              "      <td>0</td>\n",
              "    </tr>\n",
              "    <tr>\n",
              "      <th>3</th>\n",
              "      <td>20</td>\n",
              "      <td>0</td>\n",
              "      <td>0</td>\n",
              "      <td>1</td>\n",
              "      <td>1</td>\n",
              "      <td>4</td>\n",
              "      <td>1</td>\n",
              "      <td>1</td>\n",
              "      <td>2</td>\n",
              "      <td>1</td>\n",
              "      <td>...</td>\n",
              "      <td>13.000000</td>\n",
              "      <td>5</td>\n",
              "      <td>8</td>\n",
              "      <td>7</td>\n",
              "      <td>5</td>\n",
              "      <td>4.0</td>\n",
              "      <td>4.0</td>\n",
              "      <td>3.0</td>\n",
              "      <td>1</td>\n",
              "      <td>0</td>\n",
              "    </tr>\n",
              "    <tr>\n",
              "      <th>4</th>\n",
              "      <td>14</td>\n",
              "      <td>0</td>\n",
              "      <td>2</td>\n",
              "      <td>1</td>\n",
              "      <td>9</td>\n",
              "      <td>0</td>\n",
              "      <td>3</td>\n",
              "      <td>1</td>\n",
              "      <td>0</td>\n",
              "      <td>7</td>\n",
              "      <td>...</td>\n",
              "      <td>9.000000</td>\n",
              "      <td>2</td>\n",
              "      <td>6</td>\n",
              "      <td>0</td>\n",
              "      <td>4</td>\n",
              "      <td>4.0</td>\n",
              "      <td>1.0</td>\n",
              "      <td>3.0</td>\n",
              "      <td>2</td>\n",
              "      <td>0</td>\n",
              "    </tr>\n",
              "    <tr>\n",
              "      <th>...</th>\n",
              "      <td>...</td>\n",
              "      <td>...</td>\n",
              "      <td>...</td>\n",
              "      <td>...</td>\n",
              "      <td>...</td>\n",
              "      <td>...</td>\n",
              "      <td>...</td>\n",
              "      <td>...</td>\n",
              "      <td>...</td>\n",
              "      <td>...</td>\n",
              "      <td>...</td>\n",
              "      <td>...</td>\n",
              "      <td>...</td>\n",
              "      <td>...</td>\n",
              "      <td>...</td>\n",
              "      <td>...</td>\n",
              "      <td>...</td>\n",
              "      <td>...</td>\n",
              "      <td>...</td>\n",
              "      <td>...</td>\n",
              "      <td>...</td>\n",
              "    </tr>\n",
              "    <tr>\n",
              "      <th>4405</th>\n",
              "      <td>24</td>\n",
              "      <td>0</td>\n",
              "      <td>2</td>\n",
              "      <td>1</td>\n",
              "      <td>4</td>\n",
              "      <td>3</td>\n",
              "      <td>3</td>\n",
              "      <td>0</td>\n",
              "      <td>0</td>\n",
              "      <td>6</td>\n",
              "      <td>...</td>\n",
              "      <td>10.000000</td>\n",
              "      <td>5</td>\n",
              "      <td>3</td>\n",
              "      <td>0</td>\n",
              "      <td>2</td>\n",
              "      <td>4.0</td>\n",
              "      <td>1.0</td>\n",
              "      <td>3.0</td>\n",
              "      <td>2</td>\n",
              "      <td>0</td>\n",
              "    </tr>\n",
              "    <tr>\n",
              "      <th>4406</th>\n",
              "      <td>11</td>\n",
              "      <td>0</td>\n",
              "      <td>2</td>\n",
              "      <td>1</td>\n",
              "      <td>1</td>\n",
              "      <td>3</td>\n",
              "      <td>3</td>\n",
              "      <td>1</td>\n",
              "      <td>0</td>\n",
              "      <td>2</td>\n",
              "      <td>...</td>\n",
              "      <td>10.000000</td>\n",
              "      <td>2</td>\n",
              "      <td>3</td>\n",
              "      <td>0</td>\n",
              "      <td>2</td>\n",
              "      <td>4.0</td>\n",
              "      <td>4.0</td>\n",
              "      <td>3.0</td>\n",
              "      <td>1</td>\n",
              "      <td>0</td>\n",
              "    </tr>\n",
              "    <tr>\n",
              "      <th>4407</th>\n",
              "      <td>7</td>\n",
              "      <td>0</td>\n",
              "      <td>2</td>\n",
              "      <td>1</td>\n",
              "      <td>24</td>\n",
              "      <td>1</td>\n",
              "      <td>1</td>\n",
              "      <td>1</td>\n",
              "      <td>1</td>\n",
              "      <td>7</td>\n",
              "      <td>...</td>\n",
              "      <td>5.000000</td>\n",
              "      <td>4</td>\n",
              "      <td>4</td>\n",
              "      <td>1</td>\n",
              "      <td>2</td>\n",
              "      <td>1.0</td>\n",
              "      <td>3.0</td>\n",
              "      <td>3.0</td>\n",
              "      <td>2</td>\n",
              "      <td>1</td>\n",
              "    </tr>\n",
              "    <tr>\n",
              "      <th>4408</th>\n",
              "      <td>24</td>\n",
              "      <td>0</td>\n",
              "      <td>2</td>\n",
              "      <td>2</td>\n",
              "      <td>17</td>\n",
              "      <td>1</td>\n",
              "      <td>3</td>\n",
              "      <td>1</td>\n",
              "      <td>0</td>\n",
              "      <td>2</td>\n",
              "      <td>...</td>\n",
              "      <td>10.000000</td>\n",
              "      <td>2</td>\n",
              "      <td>9</td>\n",
              "      <td>7</td>\n",
              "      <td>8</td>\n",
              "      <td>4.0</td>\n",
              "      <td>1.0</td>\n",
              "      <td>3.0</td>\n",
              "      <td>1</td>\n",
              "      <td>0</td>\n",
              "    </tr>\n",
              "    <tr>\n",
              "      <th>4409</th>\n",
              "      <td>22</td>\n",
              "      <td>0</td>\n",
              "      <td>2</td>\n",
              "      <td>1</td>\n",
              "      <td>27</td>\n",
              "      <td>2</td>\n",
              "      <td>3</td>\n",
              "      <td>1</td>\n",
              "      <td>1</td>\n",
              "      <td>2</td>\n",
              "      <td>...</td>\n",
              "      <td>11.279936</td>\n",
              "      <td>6</td>\n",
              "      <td>21</td>\n",
              "      <td>3</td>\n",
              "      <td>9</td>\n",
              "      <td>1.0</td>\n",
              "      <td>3.0</td>\n",
              "      <td>3.0</td>\n",
              "      <td>3</td>\n",
              "      <td>0</td>\n",
              "    </tr>\n",
              "  </tbody>\n",
              "</table>\n",
              "<p>4410 rows × 25 columns</p>\n",
              "</div>"
            ],
            "text/plain": [
              "      Age  Attrition  BusinessTravel  Department  DistanceFromHome  Education  \\\n",
              "0      33          0               2           2                 5          1   \n",
              "1      13          1               1           1                 9          0   \n",
              "2      14          0               1           1                16          3   \n",
              "3      20          0               0           1                 1          4   \n",
              "4      14          0               2           1                 9          0   \n",
              "...   ...        ...             ...         ...               ...        ...   \n",
              "4405   24          0               2           1                 4          3   \n",
              "4406   11          0               2           1                 1          3   \n",
              "4407    7          0               2           1                24          1   \n",
              "4408   24          0               2           2                17          1   \n",
              "4409   22          0               2           1                27          2   \n",
              "\n",
              "      EducationField  Gender  JobLevel  JobRole  ...  TotalWorkingYears  \\\n",
              "0                  1       0         0        0  ...           1.000000   \n",
              "1                  1       0         0        6  ...           6.000000   \n",
              "2                  4       1         3        7  ...           5.000000   \n",
              "3                  1       1         2        1  ...          13.000000   \n",
              "4                  3       1         0        7  ...           9.000000   \n",
              "...              ...     ...       ...      ...  ...                ...   \n",
              "4405               3       0         0        6  ...          10.000000   \n",
              "4406               3       1         0        2  ...          10.000000   \n",
              "4407               1       1         1        7  ...           5.000000   \n",
              "4408               3       1         0        2  ...          10.000000   \n",
              "4409               3       1         1        2  ...          11.279936   \n",
              "\n",
              "      TrainingTimesLastYear  YearsAtCompany  YearsSinceLastPromotion  \\\n",
              "0                         6               1                        0   \n",
              "1                         3               5                        1   \n",
              "2                         2               5                        0   \n",
              "3                         5               8                        7   \n",
              "4                         2               6                        0   \n",
              "...                     ...             ...                      ...   \n",
              "4405                      5               3                        0   \n",
              "4406                      2               3                        0   \n",
              "4407                      4               4                        1   \n",
              "4408                      2               9                        7   \n",
              "4409                      6              21                        3   \n",
              "\n",
              "      YearsWithCurrManager  EnvironmentSatisfaction  JobSatisfaction  \\\n",
              "0                        0                      3.0              4.0   \n",
              "1                        4                      3.0              2.0   \n",
              "2                        3                      2.0              2.0   \n",
              "3                        5                      4.0              4.0   \n",
              "4                        4                      4.0              1.0   \n",
              "...                    ...                      ...              ...   \n",
              "4405                     2                      4.0              1.0   \n",
              "4406                     2                      4.0              4.0   \n",
              "4407                     2                      1.0              3.0   \n",
              "4408                     8                      4.0              1.0   \n",
              "4409                     9                      1.0              3.0   \n",
              "\n",
              "      WorkLifeBalance  JobInvolvement  PerformanceRating  \n",
              "0                 2.0               2                  0  \n",
              "1                 4.0               1                  1  \n",
              "2                 1.0               2                  0  \n",
              "3                 3.0               1                  0  \n",
              "4                 3.0               2                  0  \n",
              "...               ...             ...                ...  \n",
              "4405              3.0               2                  0  \n",
              "4406              3.0               1                  0  \n",
              "4407              3.0               2                  1  \n",
              "4408              3.0               1                  0  \n",
              "4409              3.0               3                  0  \n",
              "\n",
              "[4410 rows x 25 columns]"
            ]
          },
          "execution_count": 55,
          "metadata": {},
          "output_type": "execute_result"
        }
      ],
      "source": [
        "df"
      ]
    },
    {
      "cell_type": "code",
      "execution_count": null,
      "id": "d7a2b06c",
      "metadata": {
        "id": "d7a2b06c"
      },
      "outputs": [],
      "source": [
        "# Separate independent variable from thhe dependent variables\n",
        "\n",
        "x=df.drop(columns=['Attrition'])\n",
        "y=df['Attrition']"
      ]
    },
    {
      "cell_type": "code",
      "execution_count": null,
      "id": "e18a7790",
      "metadata": {
        "id": "e18a7790"
      },
      "outputs": [],
      "source": [
        "from sklearn.model_selection import train_test_split\n",
        "from sklearn.linear_model import LogisticRegression"
      ]
    },
    {
      "cell_type": "code",
      "execution_count": null,
      "id": "be20c3a2",
      "metadata": {
        "id": "be20c3a2"
      },
      "outputs": [],
      "source": [
        "xtrain,xtest,ytrain,ytest=train_test_split(x,y,test_size=0.3,random_state=0,stratify=y)"
      ]
    },
    {
      "cell_type": "code",
      "execution_count": null,
      "id": "f23a44ba",
      "metadata": {
        "id": "f23a44ba"
      },
      "outputs": [],
      "source": [
        "model=LogisticRegression(max_iter=12000).fit(xtrain,ytrain)"
      ]
    },
    {
      "cell_type": "code",
      "execution_count": null,
      "id": "24c28461",
      "metadata": {
        "id": "24c28461"
      },
      "outputs": [],
      "source": [
        "pred=model.predict(xtest)"
      ]
    },
    {
      "cell_type": "code",
      "execution_count": null,
      "id": "70eeb05c",
      "metadata": {
        "id": "70eeb05c",
        "outputId": "56c4269b-646d-4bf5-9333-9504fb58ccbb"
      },
      "outputs": [
        {
          "data": {
            "text/plain": [
              "0.8412698412698413"
            ]
          },
          "execution_count": 61,
          "metadata": {},
          "output_type": "execute_result"
        }
      ],
      "source": [
        "metrics.accuracy_score(ytest,pred)"
      ]
    },
    {
      "cell_type": "code",
      "execution_count": null,
      "id": "0452f041",
      "metadata": {
        "id": "0452f041"
      },
      "outputs": [],
      "source": [
        "cm=metrics.confusion_matrix(ytest,pred)\n",
        "\n",
        "tn=cm[0][0]\n",
        "fp=cm[0][1]\n",
        "fn=cm[1][0]\n",
        "tp=cm[1][1]"
      ]
    },
    {
      "cell_type": "code",
      "execution_count": null,
      "id": "be78ea91",
      "metadata": {
        "id": "be78ea91",
        "outputId": "fbc74195-895c-4a84-c9d5-3d53953d4656"
      },
      "outputs": [
        {
          "data": {
            "text/plain": [
              "array([[1095,   15],\n",
              "       [ 195,   18]], dtype=int64)"
            ]
          },
          "execution_count": 63,
          "metadata": {},
          "output_type": "execute_result"
        }
      ],
      "source": [
        "cm"
      ]
    },
    {
      "cell_type": "code",
      "execution_count": null,
      "id": "a92e83e1",
      "metadata": {
        "id": "a92e83e1",
        "outputId": "f5e93a60-339e-4da4-c251-5a7cd6272e8c"
      },
      "outputs": [
        {
          "data": {
            "text/plain": [
              "0.8412698412698413"
            ]
          },
          "execution_count": 64,
          "metadata": {},
          "output_type": "execute_result"
        }
      ],
      "source": [
        "acc=(tp+tn)/(tp+tn+fp+fn)\n",
        "acc"
      ]
    },
    {
      "cell_type": "markdown",
      "id": "4e372158",
      "metadata": {
        "id": "4e372158"
      },
      "source": [
        "The accuracy of the Logistic Regression model is 84.12 %"
      ]
    },
    {
      "cell_type": "code",
      "execution_count": null,
      "id": "e2b19ab3",
      "metadata": {
        "id": "e2b19ab3"
      },
      "outputs": [],
      "source": [
        "fpr,tpr,thresholds=metrics.roc_curve(ytest,pred)"
      ]
    },
    {
      "cell_type": "code",
      "execution_count": null,
      "id": "3fb2ac6f",
      "metadata": {
        "id": "3fb2ac6f",
        "outputId": "4a23bd4b-2885-403b-d807-d5b6f9c65c36"
      },
      "outputs": [
        {
          "data": {
            "image/png": "[encoded data removed]",
            "text/plain": [
              "<Figure size 432x288 with 1 Axes>"
            ]
          },
          "metadata": {
            "needs_background": "light"
          },
          "output_type": "display_data"
        }
      ],
      "source": [
        "plt.title('Receiver Operating Characteristic')\n",
        "plt.plot(fpr,tpr,'b')\n",
        "plt.xlabel('False Positive Rate')\n",
        "plt.ylabel('True Positive Rate')\n",
        "plt.plot([0,1],[0,1],'r--')\n",
        "plt.xlim([0,1])\n",
        "plt.ylim([0,1])\n",
        "plt.show()"
      ]
    },
    {
      "cell_type": "markdown",
      "id": "cb4ba247",
      "metadata": {
        "id": "cb4ba247"
      },
      "source": [
        "CONCLUSIONS - \n",
        "\n",
        "1) There are very high chances of employees of age group 18-23 leaving the company. In fact, there are more number of employees of age 18-21 who leave as compared to those stay with the company.\n",
        "\n",
        "2) Also, employees of age 58 are too much prone to leave the company.\n",
        "\n",
        "3) Attrition chances are high for employees working since 0-2 years with the company.\n",
        "\n",
        "4) There are more than 1300 employees currently working with the company who have rated either 1 or 2 for the Environment Satisfaction. These account for the 36 percent of the total manpower(3699) presently working. There may be chances that these employees leave the company similar to around 350 other employees who have already left with such ratings given. \n",
        "\n",
        "5) There are around 1350 employees currently working with the company who have rated either 1 or 2 for the Job Satisfaction. These account for the 36.49 percent of the total manpower(3699) presently working. There may be chances that these employees leave the company similar to around 400 other employees who have already left with such ratings given.\n",
        "\n",
        "6) There are around 1000 employees currently working with the company who have rated either 1 or 2 for the Work Life Balance. These account for the 27.034 percent of the total manpower(3699) presently working. There may be chances that these employees leave the company similar to around 300 other employees who have already left with such ratings given.\n",
        "\n",
        "7) There are around 1200 employees currently working with the company who have rated either 1 or 2 for the Job Involvment. These account for the 32.44 percent of the total manpower(3699) presently working. There may be chances that these employees leave the company similar to around 250 other employees who have already left with such ratings given.\n",
        "\n",
        "8) Human Resouces department has high trend of attrition.\n",
        "\n",
        "9) Education field of Human Resources has very high attrition.\n"
      ]
    },
    {
      "cell_type": "markdown",
      "id": "4536378b",
      "metadata": {
        "id": "4536378b"
      },
      "source": [
        "VARIABLES THAT NEED TO BE ADDRESSED RIGHT AWAY -\n",
        "\n",
        "1) Environment Satisfaction\n",
        "\n",
        "2) Job Satisfaction\n",
        "\n",
        "3) Work Life Balance\n",
        "\n",
        "4) Job Involvement\n",
        "\n",
        "5) Human Resources Education Field"
      ]
    }
  ],
  "metadata": {
    "kernelspec": {
      "display_name": "Python 3 (ipykernel)",
      "language": "python",
      "name": "python3"
    },
    "language_info": {
      "codemirror_mode": {
        "name": "ipython",
        "version": 3
      },
      "file_extension": ".py",
      "mimetype": "text/x-python",
      "name": "python",
      "nbconvert_exporter": "python",
      "pygments_lexer": "ipython3",
      "version": "3.9.7"
    },
    "colab": {
      "name": "HR_Analytics.ipynb",
      "provenance": []
    }
  },
  "nbformat": 4,
  "nbformat_minor": 5
}